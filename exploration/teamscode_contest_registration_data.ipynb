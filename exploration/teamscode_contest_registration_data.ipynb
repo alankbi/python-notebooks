{
 "cells": [
  {
   "cell_type": "markdown",
   "metadata": {},
   "source": [
    "# TeamsCode MIHS Programming Contest Registration Data:"
   ]
  },
  {
   "cell_type": "code",
   "execution_count": 1,
   "metadata": {},
   "outputs": [],
   "source": [
    "import numpy as np\n",
    "import pandas as pd\n",
    "import matplotlib.pyplot as plt"
   ]
  },
  {
   "cell_type": "code",
   "execution_count": 2,
   "metadata": {},
   "outputs": [],
   "source": [
    "# Load in Excel data and assign contest label to each row\n",
    "df = pd.DataFrame()\n",
    "df = df.append(pd.read_excel('TeamsCode_Registration_Data/MIHS/Spring_2017_MIHS_Registration.xlsx', na_filter=False))\n",
    "df['Contest'] = 'Spring2017'\n",
    "df = df.append(pd.read_excel('TeamsCode_Registration_Data/MIHS/Fall_2017_MIHS_Registration.xlsx', na_filter=False))\n",
    "df.loc[df['Contest'].isnull(),'Contest'] = 'Fall2017'\n",
    "df = df.append(pd.read_excel('TeamsCode_Registration_Data/MIHS/Spring_2018_MIHS_Registration.xlsx', na_filter=False))\n",
    "df.loc[df['Contest'].isnull(),'Contest'] = 'Spring2018'\n",
    "df = df.append(pd.read_excel('TeamsCode_Registration_Data/MIHS/Fall_2018_MIHS_Registration.xlsx', na_filter=False))\n",
    "df.loc[df['Contest'].isnull(),'Contest'] = 'Fall2018'\n",
    "df = df.append(pd.read_excel('TeamsCode_Registration_Data/MIHS/Spring_2019_MIHS_Registration.xlsx', na_filter=False))\n",
    "df.loc[df['Contest'].isnull(),'Contest'] = 'Spring2019'\n",
    "\n",
    "contest_categories = ['Spring2017', 'Fall2017', 'Spring2018', 'Fall2018', 'Spring2019']\n",
    "df['Contest'] = df['Contest'].astype(pd.api.types.CategoricalDtype(categories=contest_categories))"
   ]
  },
  {
   "cell_type": "markdown",
   "metadata": {},
   "source": [
    "#### Preview of data:"
   ]
  },
  {
   "cell_type": "code",
   "execution_count": 3,
   "metadata": {},
   "outputs": [
    {
     "data": {
      "text/html": [
       "<div>\n",
       "<style scoped>\n",
       "    .dataframe tbody tr th:only-of-type {\n",
       "        vertical-align: middle;\n",
       "    }\n",
       "\n",
       "    .dataframe tbody tr th {\n",
       "        vertical-align: top;\n",
       "    }\n",
       "\n",
       "    .dataframe thead th {\n",
       "        text-align: right;\n",
       "    }\n",
       "</style>\n",
       "<table border=\"1\" class=\"dataframe\">\n",
       "  <thead>\n",
       "    <tr style=\"text-align: right;\">\n",
       "      <th></th>\n",
       "      <th>Contest</th>\n",
       "      <th>Division</th>\n",
       "      <th>Language</th>\n",
       "      <th>Name</th>\n",
       "      <th>School</th>\n",
       "      <th>Size</th>\n",
       "    </tr>\n",
       "  </thead>\n",
       "  <tbody>\n",
       "    <tr>\n",
       "      <th>0</th>\n",
       "      <td>Spring2017</td>\n",
       "      <td>Advanced</td>\n",
       "      <td>Java</td>\n",
       "      <td>JJKings</td>\n",
       "      <td>Mercer Island High School</td>\n",
       "      <td>3</td>\n",
       "    </tr>\n",
       "    <tr>\n",
       "      <th>1</th>\n",
       "      <td>Spring2017</td>\n",
       "      <td>Advanced</td>\n",
       "      <td>C#</td>\n",
       "      <td>Blue Noun</td>\n",
       "      <td>Mercer Island High School</td>\n",
       "      <td>1</td>\n",
       "    </tr>\n",
       "    <tr>\n",
       "      <th>2</th>\n",
       "      <td>Spring2017</td>\n",
       "      <td>Advanced</td>\n",
       "      <td>Java</td>\n",
       "      <td>The Flat Earth Society</td>\n",
       "      <td>Mercer Island High School</td>\n",
       "      <td>3</td>\n",
       "    </tr>\n",
       "    <tr>\n",
       "      <th>3</th>\n",
       "      <td>Spring2017</td>\n",
       "      <td>Advanced</td>\n",
       "      <td>Python</td>\n",
       "      <td>Dystopic Dynausaurs</td>\n",
       "      <td>Tesla STEM High School</td>\n",
       "      <td>3</td>\n",
       "    </tr>\n",
       "    <tr>\n",
       "      <th>4</th>\n",
       "      <td>Spring2017</td>\n",
       "      <td>Advanced</td>\n",
       "      <td>C#</td>\n",
       "      <td>Failures</td>\n",
       "      <td>Mercer Island High School</td>\n",
       "      <td>3</td>\n",
       "    </tr>\n",
       "  </tbody>\n",
       "</table>\n",
       "</div>"
      ],
      "text/plain": [
       "      Contest  Division Language                    Name  \\\n",
       "0  Spring2017  Advanced     Java                 JJKings   \n",
       "1  Spring2017  Advanced       C#               Blue Noun   \n",
       "2  Spring2017  Advanced     Java  The Flat Earth Society   \n",
       "3  Spring2017  Advanced   Python     Dystopic Dynausaurs   \n",
       "4  Spring2017  Advanced       C#                Failures   \n",
       "\n",
       "                      School  Size  \n",
       "0  Mercer Island High School     3  \n",
       "1  Mercer Island High School     1  \n",
       "2  Mercer Island High School     3  \n",
       "3     Tesla STEM High School     3  \n",
       "4  Mercer Island High School     3  "
      ]
     },
     "execution_count": 3,
     "metadata": {},
     "output_type": "execute_result"
    }
   ],
   "source": [
    "df.head()"
   ]
  },
  {
   "cell_type": "markdown",
   "metadata": {},
   "source": [
    "#### Total number of teams:"
   ]
  },
  {
   "cell_type": "code",
   "execution_count": 4,
   "metadata": {},
   "outputs": [
    {
     "data": {
      "text/plain": [
       "255"
      ]
     },
     "execution_count": 4,
     "metadata": {},
     "output_type": "execute_result"
    }
   ],
   "source": [
    "df['Size'].count()"
   ]
  },
  {
   "cell_type": "markdown",
   "metadata": {},
   "source": [
    "#### Total number of participants:"
   ]
  },
  {
   "cell_type": "code",
   "execution_count": 5,
   "metadata": {
    "scrolled": true
   },
   "outputs": [
    {
     "data": {
      "text/plain": [
       "588"
      ]
     },
     "execution_count": 5,
     "metadata": {},
     "output_type": "execute_result"
    }
   ],
   "source": [
    "df['Size'].sum()"
   ]
  },
  {
   "cell_type": "markdown",
   "metadata": {},
   "source": [
    "#### Average team size:"
   ]
  },
  {
   "cell_type": "code",
   "execution_count": 6,
   "metadata": {},
   "outputs": [
    {
     "data": {
      "text/plain": [
       "2.3058823529411763"
      ]
     },
     "execution_count": 6,
     "metadata": {},
     "output_type": "execute_result"
    }
   ],
   "source": [
    "df['Size'].mean()"
   ]
  },
  {
   "cell_type": "markdown",
   "metadata": {},
   "source": [
    "#### Team size distribution:"
   ]
  },
  {
   "cell_type": "code",
   "execution_count": 7,
   "metadata": {},
   "outputs": [
    {
     "data": {
      "text/plain": [
       "Size\n",
       "3    134\n",
       "2     65\n",
       "1     56\n",
       "dtype: int64"
      ]
     },
     "execution_count": 7,
     "metadata": {},
     "output_type": "execute_result"
    }
   ],
   "source": [
    "sizes = df.groupby('Size').size().sort_values(ascending=False)\n",
    "sizes"
   ]
  },
  {
   "cell_type": "code",
   "execution_count": 8,
   "metadata": {},
   "outputs": [
    {
     "data": {
      "text/plain": [
       "Text(0.5,1,'Team Size')"
      ]
     },
     "execution_count": 8,
     "metadata": {},
     "output_type": "execute_result"
    },
    {
     "data": {
      "image/png": "[encoded data removed]",
      "text/plain": [
       "<matplotlib.figure.Figure at 0x107e5c240>"
      ]
     },
     "metadata": {},
     "output_type": "display_data"
    }
   ],
   "source": [
    "sizes_ax = sizes.plot.bar(colormap='RdYlBu')\n",
    "sizes_ax.set_xlabel('Team Size')\n",
    "sizes_ax.set_ylabel('Count')\n",
    "sizes_ax.set_title('Team Size')"
   ]
  },
  {
   "cell_type": "markdown",
   "metadata": {},
   "source": [
    "#### Programming languages:"
   ]
  },
  {
   "cell_type": "code",
   "execution_count": 9,
   "metadata": {},
   "outputs": [
    {
     "data": {
      "text/plain": [
       "Language\n",
       "Java      183\n",
       "Python     55\n",
       "C#         12\n",
       "C++         4\n",
       "Kotlin      1\n",
       "dtype: int64"
      ]
     },
     "execution_count": 9,
     "metadata": {},
     "output_type": "execute_result"
    }
   ],
   "source": [
    "languages = df.groupby('Language').size().sort_values(ascending=False)\n",
    "languages"
   ]
  },
  {
   "cell_type": "code",
   "execution_count": 10,
   "metadata": {},
   "outputs": [
    {
     "data": {
      "text/plain": [
       "Text(0.5,1,'Programming Languages')"
      ]
     },
     "execution_count": 10,
     "metadata": {},
     "output_type": "execute_result"
    },
    {
     "data": {
      "image/png": "[encoded data removed]",
      "text/plain": [
       "<matplotlib.figure.Figure at 0x107fbb438>"
      ]
     },
     "metadata": {},
     "output_type": "display_data"
    }
   ],
   "source": [
    "languages_ax = languages.plot.bar(colormap='PiYG_r')\n",
    "languages_ax.set_xlabel('Language')\n",
    "languages_ax.set_ylabel('Count')\n",
    "languages_ax.set_title('Programming Languages')"
   ]
  },
  {
   "cell_type": "markdown",
   "metadata": {},
   "source": [
    "#### Divisions:"
   ]
  },
  {
   "cell_type": "code",
   "execution_count": 11,
   "metadata": {},
   "outputs": [
    {
     "data": {
      "text/plain": [
       "Division\n",
       "Intermediate    163\n",
       "Advanced         92\n",
       "dtype: int64"
      ]
     },
     "execution_count": 11,
     "metadata": {},
     "output_type": "execute_result"
    }
   ],
   "source": [
    "divisions = df.groupby('Division').size().sort_values(ascending=False)\n",
    "divisions"
   ]
  },
  {
   "cell_type": "code",
   "execution_count": 12,
   "metadata": {},
   "outputs": [
    {
     "data": {
      "text/plain": [
       "Text(0.5,1,'Division')"
      ]
     },
     "execution_count": 12,
     "metadata": {},
     "output_type": "execute_result"
    },
    {
     "data": {
      "image/png": "[encoded data removed]",
      "text/plain": [
       "<matplotlib.figure.Figure at 0x1080c5390>"
      ]
     },
     "metadata": {},
     "output_type": "display_data"
    }
   ],
   "source": [
    "divisions_ax = divisions.plot.bar(colormap='coolwarm')\n",
    "divisions_ax.set_xlabel('Division')\n",
    "divisions_ax.set_ylabel('Count')\n",
    "divisions_ax.set_title('Division')"
   ]
  },
  {
   "cell_type": "markdown",
   "metadata": {},
   "source": [
    "#### Top represented schools:"
   ]
  },
  {
   "cell_type": "code",
   "execution_count": 13,
   "metadata": {
    "scrolled": true
   },
   "outputs": [
    {
     "data": {
      "text/plain": [
       "School\n",
       "Issaquah High School           36\n",
       "Bellevue High School           27\n",
       "Newport High School            24\n",
       "Interlake High School          19\n",
       "Mercer Island High School      14\n",
       "Tesla STEM High School         14\n",
       "Garfield High School           12\n",
       "Odle Middle School             11\n",
       "Lakeside School                 8\n",
       "Skyline High School             7\n",
       "Bishop Blanchet High School     7\n",
       "Islander Middle School          5\n",
       "Prime Factor School             4\n",
       "Eastside Preparatory School     3\n",
       "Tyee Middle School              3\n",
       "dtype: int64"
      ]
     },
     "execution_count": 13,
     "metadata": {},
     "output_type": "execute_result"
    }
   ],
   "source": [
    "schools = df.groupby('School').size().sort_values(ascending=False)\n",
    "schools.head(15)"
   ]
  },
  {
   "cell_type": "markdown",
   "metadata": {},
   "source": [
    "#### Preview of other schools:"
   ]
  },
  {
   "cell_type": "code",
   "execution_count": 14,
   "metadata": {},
   "outputs": [
    {
     "data": {
      "text/plain": [
       "School\n",
       "Lakeside Middle School                                 1\n",
       "Interlake High School, Odle Middle School              1\n",
       "Lake Oswego High School                                1\n",
       "Issaquah Middle School, Issaquah High School           1\n",
       "Issaquah High School, Pacific Cascade Middle School    1\n",
       "Prime Factor Math Circle                               1\n",
       "Redmond Middle School                                  1\n",
       "International Community School                         1\n",
       "Interlake High School, Tesla STEM High School          1\n",
       "Woodinville High School                                1\n",
       "dtype: int64"
      ]
     },
     "execution_count": 14,
     "metadata": {},
     "output_type": "execute_result"
    }
   ],
   "source": [
    "schools.tail(10)"
   ]
  },
  {
   "cell_type": "markdown",
   "metadata": {},
   "source": [
    "#### Number of unique schools:"
   ]
  },
  {
   "cell_type": "code",
   "execution_count": 15,
   "metadata": {},
   "outputs": [
    {
     "data": {
      "text/plain": [
       "54"
      ]
     },
     "execution_count": 15,
     "metadata": {},
     "output_type": "execute_result"
    }
   ],
   "source": [
    "# Filters out strings that contain two schools\n",
    "schools.count() - sum(schools.index.str.contains(','))"
   ]
  },
  {
   "cell_type": "code",
   "execution_count": 16,
   "metadata": {},
   "outputs": [
    {
     "data": {
      "text/plain": [
       "Text(0.5,1,'Division')"
      ]
     },
     "execution_count": 16,
     "metadata": {},
     "output_type": "execute_result"
    },
    {
     "data": {
      "image/png": "[encoded data removed]",
      "text/plain": [
       "<matplotlib.figure.Figure at 0x1081c9eb8>"
      ]
     },
     "metadata": {},
     "output_type": "display_data"
    }
   ],
   "source": [
    "# Get top schools and strip \"School\" from the end of each name\n",
    "top_schools = schools[schools > 1]\n",
    "top_schools.index = top_schools.index.map(lambda x: str(x)[:-7])\n",
    "\n",
    "schools_ax = top_schools.plot.bar(colormap='coolwarm_r', figsize=(10, 5))\n",
    "schools_ax.set_xlabel('Division')\n",
    "schools_ax.set_ylabel('Count')\n",
    "schools_ax.set_title('Division')"
   ]
  },
  {
   "cell_type": "markdown",
   "metadata": {},
   "source": [
    "#### Teams that signed up for two or more contests (under the same name):"
   ]
  },
  {
   "cell_type": "code",
   "execution_count": 17,
   "metadata": {},
   "outputs": [
    {
     "data": {
      "text/plain": [
       "Name\n",
       "Dorper             3\n",
       "Naomi              3\n",
       "The Letter 3       2\n",
       "ProPals            2\n",
       "FIRECRACKERS       2\n",
       "Delete System32    2\n",
       "Twinkie            2\n",
       "Stemmies           2\n",
       "MTHS Hacks         2\n",
       "Nieracol           2\n",
       "1337               2\n",
       "dtype: int64"
      ]
     },
     "execution_count": 17,
     "metadata": {},
     "output_type": "execute_result"
    }
   ],
   "source": [
    "names = df.groupby('Name').size().sort_values(ascending=False)\n",
    "names[names > 1]"
   ]
  },
  {
   "cell_type": "markdown",
   "metadata": {},
   "source": [
    "#### Turnout at each contest:"
   ]
  },
  {
   "cell_type": "code",
   "execution_count": 18,
   "metadata": {},
   "outputs": [
    {
     "data": {
      "text/plain": [
       "Contest\n",
       "Spring2017    104\n",
       "Fall2017       96\n",
       "Spring2018     93\n",
       "Fall2018      153\n",
       "Spring2019    142\n",
       "Name: Size, dtype: int64"
      ]
     },
     "execution_count": 18,
     "metadata": {},
     "output_type": "execute_result"
    }
   ],
   "source": [
    "contests = df.groupby('Contest')\n",
    "contests['Size'].sum()"
   ]
  },
  {
   "cell_type": "code",
   "execution_count": 19,
   "metadata": {},
   "outputs": [
    {
     "data": {
      "text/plain": [
       "Text(0.5,1,'Contest Turnout')"
      ]
     },
     "execution_count": 19,
     "metadata": {},
     "output_type": "execute_result"
    },
    {
     "data": {
      "image/png": "[encoded data removed]",
      "text/plain": [
       "<matplotlib.figure.Figure at 0x1084091d0>"
      ]
     },
     "metadata": {},
     "output_type": "display_data"
    }
   ],
   "source": [
    "contests_ax = contests['Size'].sum().plot.bar(colormap='summer')\n",
    "contests_ax.set_xlabel('Contest')\n",
    "contests_ax.set_ylabel('Count')\n",
    "contests_ax.set_title('Contest Turnout')"
   ]
  },
  {
   "cell_type": "code",
   "execution_count": null,
   "metadata": {},
   "outputs": [],
   "source": []
  }
 ],
 "metadata": {
  "kernelspec": {
   "display_name": "Python 3",
   "language": "python",
   "name": "python3"
  },
  "language_info": {
   "codemirror_mode": {
    "name": "ipython",
    "version": 3
   },
   "file_extension": ".py",
   "mimetype": "text/x-python",
   "name": "python",
   "nbconvert_exporter": "python",
   "pygments_lexer": "ipython3",
   "version": "3.6.4"
  }
 },
 "nbformat": 4,
 "nbformat_minor": 2
}
