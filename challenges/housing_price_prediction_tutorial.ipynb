{
 "cells": [
  {
   "cell_type": "markdown",
   "metadata": {
    "_cell_guid": "e81ee64d-e474-4662-9036-ce23df615199",
    "_uuid": "b6269c0e8f417f82daf093dda8fa0da6d2c57d86"
   },
   "source": [
    "# Introduction\n",
    "**This will be your workspace for Kaggle's Machine Learning education track.**\n",
    "\n",
    "You will build and continually improve a model to predict housing prices as you work through each tutorial.  Fork this notebook and write your code in it.\n",
    "\n",
    "The data from the tutorial, the Melbourne data, is not available in this workspace.  You will need to translate the concepts to work with the data in this notebook, the Iowa data.\n",
    "\n",
    "Come to the [Learn Discussion](https://www.kaggle.com/learn-forum) forum for any questions or comments. \n",
    "\n",
    "# Write Your Code Below\n",
    "\n"
   ]
  },
  {
   "cell_type": "code",
   "execution_count": 1,
   "metadata": {
    "_cell_guid": "86b26423-563a-4fa1-a595-89e25ff93089",
    "_uuid": "1c728098629e1301643443b1341556a15c089b2b"
   },
   "outputs": [
    {
     "data": {
      "text/html": [
       "<div>\n",
       "<style scoped>\n",
       "    .dataframe tbody tr th:only-of-type {\n",
       "        vertical-align: middle;\n",
       "    }\n",
       "\n",
       "    .dataframe tbody tr th {\n",
       "        vertical-align: top;\n",
       "    }\n",
       "\n",
       "    .dataframe thead th {\n",
       "        text-align: right;\n",
       "    }\n",
       "</style>\n",
       "<table border=\"1\" class=\"dataframe\">\n",
       "  <thead>\n",
       "    <tr style=\"text-align: right;\">\n",
       "      <th></th>\n",
       "      <th>Id</th>\n",
       "      <th>MSSubClass</th>\n",
       "      <th>LotFrontage</th>\n",
       "      <th>LotArea</th>\n",
       "      <th>OverallQual</th>\n",
       "      <th>OverallCond</th>\n",
       "      <th>YearBuilt</th>\n",
       "      <th>YearRemodAdd</th>\n",
       "      <th>MasVnrArea</th>\n",
       "      <th>BsmtFinSF1</th>\n",
       "      <th>...</th>\n",
       "      <th>WoodDeckSF</th>\n",
       "      <th>OpenPorchSF</th>\n",
       "      <th>EnclosedPorch</th>\n",
       "      <th>3SsnPorch</th>\n",
       "      <th>ScreenPorch</th>\n",
       "      <th>PoolArea</th>\n",
       "      <th>MiscVal</th>\n",
       "      <th>MoSold</th>\n",
       "      <th>YrSold</th>\n",
       "      <th>SalePrice</th>\n",
       "    </tr>\n",
       "  </thead>\n",
       "  <tbody>\n",
       "    <tr>\n",
       "      <th>count</th>\n",
       "      <td>1460.000000</td>\n",
       "      <td>1460.000000</td>\n",
       "      <td>1201.000000</td>\n",
       "      <td>1460.000000</td>\n",
       "      <td>1460.000000</td>\n",
       "      <td>1460.000000</td>\n",
       "      <td>1460.000000</td>\n",
       "      <td>1460.000000</td>\n",
       "      <td>1452.000000</td>\n",
       "      <td>1460.000000</td>\n",
       "      <td>...</td>\n",
       "      <td>1460.000000</td>\n",
       "      <td>1460.000000</td>\n",
       "      <td>1460.000000</td>\n",
       "      <td>1460.000000</td>\n",
       "      <td>1460.000000</td>\n",
       "      <td>1460.000000</td>\n",
       "      <td>1460.000000</td>\n",
       "      <td>1460.000000</td>\n",
       "      <td>1460.000000</td>\n",
       "      <td>1460.000000</td>\n",
       "    </tr>\n",
       "    <tr>\n",
       "      <th>mean</th>\n",
       "      <td>730.500000</td>\n",
       "      <td>56.897260</td>\n",
       "      <td>70.049958</td>\n",
       "      <td>10516.828082</td>\n",
       "      <td>6.099315</td>\n",
       "      <td>5.575342</td>\n",
       "      <td>1971.267808</td>\n",
       "      <td>1984.865753</td>\n",
       "      <td>103.685262</td>\n",
       "      <td>443.639726</td>\n",
       "      <td>...</td>\n",
       "      <td>94.244521</td>\n",
       "      <td>46.660274</td>\n",
       "      <td>21.954110</td>\n",
       "      <td>3.409589</td>\n",
       "      <td>15.060959</td>\n",
       "      <td>2.758904</td>\n",
       "      <td>43.489041</td>\n",
       "      <td>6.321918</td>\n",
       "      <td>2007.815753</td>\n",
       "      <td>180921.195890</td>\n",
       "    </tr>\n",
       "    <tr>\n",
       "      <th>std</th>\n",
       "      <td>421.610009</td>\n",
       "      <td>42.300571</td>\n",
       "      <td>24.284752</td>\n",
       "      <td>9981.264932</td>\n",
       "      <td>1.382997</td>\n",
       "      <td>1.112799</td>\n",
       "      <td>30.202904</td>\n",
       "      <td>20.645407</td>\n",
       "      <td>181.066207</td>\n",
       "      <td>456.098091</td>\n",
       "      <td>...</td>\n",
       "      <td>125.338794</td>\n",
       "      <td>66.256028</td>\n",
       "      <td>61.119149</td>\n",
       "      <td>29.317331</td>\n",
       "      <td>55.757415</td>\n",
       "      <td>40.177307</td>\n",
       "      <td>496.123024</td>\n",
       "      <td>2.703626</td>\n",
       "      <td>1.328095</td>\n",
       "      <td>79442.502883</td>\n",
       "    </tr>\n",
       "    <tr>\n",
       "      <th>min</th>\n",
       "      <td>1.000000</td>\n",
       "      <td>20.000000</td>\n",
       "      <td>21.000000</td>\n",
       "      <td>1300.000000</td>\n",
       "      <td>1.000000</td>\n",
       "      <td>1.000000</td>\n",
       "      <td>1872.000000</td>\n",
       "      <td>1950.000000</td>\n",
       "      <td>0.000000</td>\n",
       "      <td>0.000000</td>\n",
       "      <td>...</td>\n",
       "      <td>0.000000</td>\n",
       "      <td>0.000000</td>\n",
       "      <td>0.000000</td>\n",
       "      <td>0.000000</td>\n",
       "      <td>0.000000</td>\n",
       "      <td>0.000000</td>\n",
       "      <td>0.000000</td>\n",
       "      <td>1.000000</td>\n",
       "      <td>2006.000000</td>\n",
       "      <td>34900.000000</td>\n",
       "    </tr>\n",
       "    <tr>\n",
       "      <th>25%</th>\n",
       "      <td>365.750000</td>\n",
       "      <td>20.000000</td>\n",
       "      <td>59.000000</td>\n",
       "      <td>7553.500000</td>\n",
       "      <td>5.000000</td>\n",
       "      <td>5.000000</td>\n",
       "      <td>1954.000000</td>\n",
       "      <td>1967.000000</td>\n",
       "      <td>0.000000</td>\n",
       "      <td>0.000000</td>\n",
       "      <td>...</td>\n",
       "      <td>0.000000</td>\n",
       "      <td>0.000000</td>\n",
       "      <td>0.000000</td>\n",
       "      <td>0.000000</td>\n",
       "      <td>0.000000</td>\n",
       "      <td>0.000000</td>\n",
       "      <td>0.000000</td>\n",
       "      <td>5.000000</td>\n",
       "      <td>2007.000000</td>\n",
       "      <td>129975.000000</td>\n",
       "    </tr>\n",
       "    <tr>\n",
       "      <th>50%</th>\n",
       "      <td>730.500000</td>\n",
       "      <td>50.000000</td>\n",
       "      <td>69.000000</td>\n",
       "      <td>9478.500000</td>\n",
       "      <td>6.000000</td>\n",
       "      <td>5.000000</td>\n",
       "      <td>1973.000000</td>\n",
       "      <td>1994.000000</td>\n",
       "      <td>0.000000</td>\n",
       "      <td>383.500000</td>\n",
       "      <td>...</td>\n",
       "      <td>0.000000</td>\n",
       "      <td>25.000000</td>\n",
       "      <td>0.000000</td>\n",
       "      <td>0.000000</td>\n",
       "      <td>0.000000</td>\n",
       "      <td>0.000000</td>\n",
       "      <td>0.000000</td>\n",
       "      <td>6.000000</td>\n",
       "      <td>2008.000000</td>\n",
       "      <td>163000.000000</td>\n",
       "    </tr>\n",
       "    <tr>\n",
       "      <th>75%</th>\n",
       "      <td>1095.250000</td>\n",
       "      <td>70.000000</td>\n",
       "      <td>80.000000</td>\n",
       "      <td>11601.500000</td>\n",
       "      <td>7.000000</td>\n",
       "      <td>6.000000</td>\n",
       "      <td>2000.000000</td>\n",
       "      <td>2004.000000</td>\n",
       "      <td>166.000000</td>\n",
       "      <td>712.250000</td>\n",
       "      <td>...</td>\n",
       "      <td>168.000000</td>\n",
       "      <td>68.000000</td>\n",
       "      <td>0.000000</td>\n",
       "      <td>0.000000</td>\n",
       "      <td>0.000000</td>\n",
       "      <td>0.000000</td>\n",
       "      <td>0.000000</td>\n",
       "      <td>8.000000</td>\n",
       "      <td>2009.000000</td>\n",
       "      <td>214000.000000</td>\n",
       "    </tr>\n",
       "    <tr>\n",
       "      <th>max</th>\n",
       "      <td>1460.000000</td>\n",
       "      <td>190.000000</td>\n",
       "      <td>313.000000</td>\n",
       "      <td>215245.000000</td>\n",
       "      <td>10.000000</td>\n",
       "      <td>9.000000</td>\n",
       "      <td>2010.000000</td>\n",
       "      <td>2010.000000</td>\n",
       "      <td>1600.000000</td>\n",
       "      <td>5644.000000</td>\n",
       "      <td>...</td>\n",
       "      <td>857.000000</td>\n",
       "      <td>547.000000</td>\n",
       "      <td>552.000000</td>\n",
       "      <td>508.000000</td>\n",
       "      <td>480.000000</td>\n",
       "      <td>738.000000</td>\n",
       "      <td>15500.000000</td>\n",
       "      <td>12.000000</td>\n",
       "      <td>2010.000000</td>\n",
       "      <td>755000.000000</td>\n",
       "    </tr>\n",
       "  </tbody>\n",
       "</table>\n",
       "<p>8 rows × 38 columns</p>\n",
       "</div>"
      ],
      "text/plain": [
       "                Id   MSSubClass  LotFrontage        LotArea  OverallQual  \\\n",
       "count  1460.000000  1460.000000  1201.000000    1460.000000  1460.000000   \n",
       "mean    730.500000    56.897260    70.049958   10516.828082     6.099315   \n",
       "std     421.610009    42.300571    24.284752    9981.264932     1.382997   \n",
       "min       1.000000    20.000000    21.000000    1300.000000     1.000000   \n",
       "25%     365.750000    20.000000    59.000000    7553.500000     5.000000   \n",
       "50%     730.500000    50.000000    69.000000    9478.500000     6.000000   \n",
       "75%    1095.250000    70.000000    80.000000   11601.500000     7.000000   \n",
       "max    1460.000000   190.000000   313.000000  215245.000000    10.000000   \n",
       "\n",
       "       OverallCond    YearBuilt  YearRemodAdd   MasVnrArea   BsmtFinSF1  \\\n",
       "count  1460.000000  1460.000000   1460.000000  1452.000000  1460.000000   \n",
       "mean      5.575342  1971.267808   1984.865753   103.685262   443.639726   \n",
       "std       1.112799    30.202904     20.645407   181.066207   456.098091   \n",
       "min       1.000000  1872.000000   1950.000000     0.000000     0.000000   \n",
       "25%       5.000000  1954.000000   1967.000000     0.000000     0.000000   \n",
       "50%       5.000000  1973.000000   1994.000000     0.000000   383.500000   \n",
       "75%       6.000000  2000.000000   2004.000000   166.000000   712.250000   \n",
       "max       9.000000  2010.000000   2010.000000  1600.000000  5644.000000   \n",
       "\n",
       "           ...         WoodDeckSF  OpenPorchSF  EnclosedPorch    3SsnPorch  \\\n",
       "count      ...        1460.000000  1460.000000    1460.000000  1460.000000   \n",
       "mean       ...          94.244521    46.660274      21.954110     3.409589   \n",
       "std        ...         125.338794    66.256028      61.119149    29.317331   \n",
       "min        ...           0.000000     0.000000       0.000000     0.000000   \n",
       "25%        ...           0.000000     0.000000       0.000000     0.000000   \n",
       "50%        ...           0.000000    25.000000       0.000000     0.000000   \n",
       "75%        ...         168.000000    68.000000       0.000000     0.000000   \n",
       "max        ...         857.000000   547.000000     552.000000   508.000000   \n",
       "\n",
       "       ScreenPorch     PoolArea       MiscVal       MoSold       YrSold  \\\n",
       "count  1460.000000  1460.000000   1460.000000  1460.000000  1460.000000   \n",
       "mean     15.060959     2.758904     43.489041     6.321918  2007.815753   \n",
       "std      55.757415    40.177307    496.123024     2.703626     1.328095   \n",
       "min       0.000000     0.000000      0.000000     1.000000  2006.000000   \n",
       "25%       0.000000     0.000000      0.000000     5.000000  2007.000000   \n",
       "50%       0.000000     0.000000      0.000000     6.000000  2008.000000   \n",
       "75%       0.000000     0.000000      0.000000     8.000000  2009.000000   \n",
       "max     480.000000   738.000000  15500.000000    12.000000  2010.000000   \n",
       "\n",
       "           SalePrice  \n",
       "count    1460.000000  \n",
       "mean   180921.195890  \n",
       "std     79442.502883  \n",
       "min     34900.000000  \n",
       "25%    129975.000000  \n",
       "50%    163000.000000  \n",
       "75%    214000.000000  \n",
       "max    755000.000000  \n",
       "\n",
       "[8 rows x 38 columns]"
      ]
     },
     "execution_count": 1,
     "metadata": {},
     "output_type": "execute_result"
    }
   ],
   "source": [
    "import numpy as np\n",
    "import pandas as pd\n",
    "import matplotlib.pyplot as plt\n",
    "\n",
    "from IPython.core.interactiveshell import InteractiveShell\n",
    "InteractiveShell.ast_node_interactivity = \"all\"\n",
    "\n",
    "main_file_path = 'data/house_prices_train.csv'\n",
    "data = pd.read_csv(main_file_path)\n",
    "data.head()\n",
    "data.describe()"
   ]
  },
  {
   "cell_type": "code",
   "execution_count": 2,
   "metadata": {
    "_cell_guid": "f254ec9a-01f7-4b2a-929f-94eea8f7202b",
    "_uuid": "45373fded3b5537fd9c0ae5890d410c9e0b7850b"
   },
   "outputs": [
    {
     "data": {
      "text/plain": [
       "Index(['Id', 'MSSubClass', 'MSZoning', 'LotFrontage', 'LotArea', 'Street',\n",
       "       'Alley', 'LotShape', 'LandContour', 'Utilities', 'LotConfig',\n",
       "       'LandSlope', 'Neighborhood', 'Condition1', 'Condition2', 'BldgType',\n",
       "       'HouseStyle', 'OverallQual', 'OverallCond', 'YearBuilt', 'YearRemodAdd',\n",
       "       'RoofStyle', 'RoofMatl', 'Exterior1st', 'Exterior2nd', 'MasVnrType',\n",
       "       'MasVnrArea', 'ExterQual', 'ExterCond', 'Foundation', 'BsmtQual',\n",
       "       'BsmtCond', 'BsmtExposure', 'BsmtFinType1', 'BsmtFinSF1',\n",
       "       'BsmtFinType2', 'BsmtFinSF2', 'BsmtUnfSF', 'TotalBsmtSF', 'Heating',\n",
       "       'HeatingQC', 'CentralAir', 'Electrical', '1stFlrSF', '2ndFlrSF',\n",
       "       'LowQualFinSF', 'GrLivArea', 'BsmtFullBath', 'BsmtHalfBath', 'FullBath',\n",
       "       'HalfBath', 'BedroomAbvGr', 'KitchenAbvGr', 'KitchenQual',\n",
       "       'TotRmsAbvGrd', 'Functional', 'Fireplaces', 'FireplaceQu', 'GarageType',\n",
       "       'GarageYrBlt', 'GarageFinish', 'GarageCars', 'GarageArea', 'GarageQual',\n",
       "       'GarageCond', 'PavedDrive', 'WoodDeckSF', 'OpenPorchSF',\n",
       "       'EnclosedPorch', '3SsnPorch', 'ScreenPorch', 'PoolArea', 'PoolQC',\n",
       "       'Fence', 'MiscFeature', 'MiscVal', 'MoSold', 'YrSold', 'SaleType',\n",
       "       'SaleCondition', 'SalePrice'],\n",
       "      dtype='object')"
      ]
     },
     "execution_count": 2,
     "metadata": {},
     "output_type": "execute_result"
    }
   ],
   "source": [
    "data.columns"
   ]
  },
  {
   "cell_type": "code",
   "execution_count": 3,
   "metadata": {
    "_cell_guid": "c11287f2-2ce5-4e9e-b9b7-c42ae31253db",
    "_uuid": "37a10b2b932c0236c0b8d1eaec6ab95e0a382d8b"
   },
   "outputs": [
    {
     "data": {
      "text/html": [
       "<div>\n",
       "<style scoped>\n",
       "    .dataframe tbody tr th:only-of-type {\n",
       "        vertical-align: middle;\n",
       "    }\n",
       "\n",
       "    .dataframe tbody tr th {\n",
       "        vertical-align: top;\n",
       "    }\n",
       "\n",
       "    .dataframe thead th {\n",
       "        text-align: right;\n",
       "    }\n",
       "</style>\n",
       "<table border=\"1\" class=\"dataframe\">\n",
       "  <thead>\n",
       "    <tr style=\"text-align: right;\">\n",
       "      <th></th>\n",
       "      <th>SalePrice</th>\n",
       "      <th>LotArea</th>\n",
       "    </tr>\n",
       "  </thead>\n",
       "  <tbody>\n",
       "    <tr>\n",
       "      <th>0</th>\n",
       "      <td>208500</td>\n",
       "      <td>8450</td>\n",
       "    </tr>\n",
       "    <tr>\n",
       "      <th>1</th>\n",
       "      <td>181500</td>\n",
       "      <td>9600</td>\n",
       "    </tr>\n",
       "    <tr>\n",
       "      <th>2</th>\n",
       "      <td>223500</td>\n",
       "      <td>11250</td>\n",
       "    </tr>\n",
       "    <tr>\n",
       "      <th>3</th>\n",
       "      <td>140000</td>\n",
       "      <td>9550</td>\n",
       "    </tr>\n",
       "    <tr>\n",
       "      <th>4</th>\n",
       "      <td>250000</td>\n",
       "      <td>14260</td>\n",
       "    </tr>\n",
       "  </tbody>\n",
       "</table>\n",
       "</div>"
      ],
      "text/plain": [
       "   SalePrice  LotArea\n",
       "0     208500     8450\n",
       "1     181500     9600\n",
       "2     223500    11250\n",
       "3     140000     9550\n",
       "4     250000    14260"
      ]
     },
     "execution_count": 3,
     "metadata": {},
     "output_type": "execute_result"
    }
   ],
   "source": [
    "data[['SalePrice', 'LotArea']].head()"
   ]
  },
  {
   "cell_type": "code",
   "execution_count": 4,
   "metadata": {
    "_cell_guid": "c1ea1d92-e39c-49a5-8f31-d07adf8aa2bd",
    "_uuid": "b923612f2d156583163f7671c3f38cb6891ceb1f"
   },
   "outputs": [],
   "source": [
    "y = data['SalePrice']"
   ]
  },
  {
   "cell_type": "markdown",
   "metadata": {
    "_cell_guid": "c5350b02-4b9e-4647-a1ee-5665d603c1d6",
    "_uuid": "0bd01b5e3d3c4031c7cf182b7a5983c795159c21"
   },
   "source": [
    "Predictors for the machine learning model:"
   ]
  },
  {
   "cell_type": "code",
   "execution_count": 5,
   "metadata": {
    "_cell_guid": "4515b5f4-bb2e-48cc-b466-a4129bcc869f",
    "_uuid": "218497d6431eecfb201a14b5524a1fde5899fafb"
   },
   "outputs": [],
   "source": [
    "predictors = ['LotArea', 'YearBuilt', '1stFlrSF', '2ndFlrSF', 'FullBath', 'BedroomAbvGr', 'TotRmsAbvGrd']\n",
    "X = data[predictors]"
   ]
  },
  {
   "cell_type": "code",
   "execution_count": 6,
   "metadata": {
    "_cell_guid": "5002a5a4-3c72-42cf-8083-30f58b05b968",
    "_uuid": "b55127b0415a10423141f21ccd6a70e48528edb9"
   },
   "outputs": [
    {
     "data": {
      "text/plain": [
       "DecisionTreeRegressor(criterion='mse', max_depth=None, max_features=None,\n",
       "           max_leaf_nodes=None, min_impurity_decrease=0.0,\n",
       "           min_impurity_split=None, min_samples_leaf=1,\n",
       "           min_samples_split=2, min_weight_fraction_leaf=0.0,\n",
       "           presort=False, random_state=None, splitter='best')"
      ]
     },
     "execution_count": 6,
     "metadata": {},
     "output_type": "execute_result"
    }
   ],
   "source": [
    "from sklearn.tree import DecisionTreeRegressor\n",
    "tree_model = DecisionTreeRegressor()\n",
    "tree_model.fit(X, y)"
   ]
  },
  {
   "cell_type": "code",
   "execution_count": 7,
   "metadata": {
    "_cell_guid": "cdd83ebd-1b24-4228-8358-57d5f25a80b0",
    "_uuid": "eb3db1737d629bc20bd4ce10dfaf4cbfda3f0c61"
   },
   "outputs": [
    {
     "data": {
      "text/html": [
       "<div>\n",
       "<style scoped>\n",
       "    .dataframe tbody tr th:only-of-type {\n",
       "        vertical-align: middle;\n",
       "    }\n",
       "\n",
       "    .dataframe tbody tr th {\n",
       "        vertical-align: top;\n",
       "    }\n",
       "\n",
       "    .dataframe thead th {\n",
       "        text-align: right;\n",
       "    }\n",
       "</style>\n",
       "<table border=\"1\" class=\"dataframe\">\n",
       "  <thead>\n",
       "    <tr style=\"text-align: right;\">\n",
       "      <th></th>\n",
       "      <th>LotArea</th>\n",
       "      <th>YearBuilt</th>\n",
       "      <th>1stFlrSF</th>\n",
       "      <th>2ndFlrSF</th>\n",
       "      <th>FullBath</th>\n",
       "      <th>BedroomAbvGr</th>\n",
       "      <th>TotRmsAbvGrd</th>\n",
       "    </tr>\n",
       "  </thead>\n",
       "  <tbody>\n",
       "    <tr>\n",
       "      <th>0</th>\n",
       "      <td>8450</td>\n",
       "      <td>2003</td>\n",
       "      <td>856</td>\n",
       "      <td>854</td>\n",
       "      <td>2</td>\n",
       "      <td>3</td>\n",
       "      <td>8</td>\n",
       "    </tr>\n",
       "    <tr>\n",
       "      <th>1</th>\n",
       "      <td>9600</td>\n",
       "      <td>1976</td>\n",
       "      <td>1262</td>\n",
       "      <td>0</td>\n",
       "      <td>2</td>\n",
       "      <td>3</td>\n",
       "      <td>6</td>\n",
       "    </tr>\n",
       "    <tr>\n",
       "      <th>2</th>\n",
       "      <td>11250</td>\n",
       "      <td>2001</td>\n",
       "      <td>920</td>\n",
       "      <td>866</td>\n",
       "      <td>2</td>\n",
       "      <td>3</td>\n",
       "      <td>6</td>\n",
       "    </tr>\n",
       "    <tr>\n",
       "      <th>3</th>\n",
       "      <td>9550</td>\n",
       "      <td>1915</td>\n",
       "      <td>961</td>\n",
       "      <td>756</td>\n",
       "      <td>1</td>\n",
       "      <td>3</td>\n",
       "      <td>7</td>\n",
       "    </tr>\n",
       "    <tr>\n",
       "      <th>4</th>\n",
       "      <td>14260</td>\n",
       "      <td>2000</td>\n",
       "      <td>1145</td>\n",
       "      <td>1053</td>\n",
       "      <td>2</td>\n",
       "      <td>4</td>\n",
       "      <td>9</td>\n",
       "    </tr>\n",
       "    <tr>\n",
       "      <th>5</th>\n",
       "      <td>14115</td>\n",
       "      <td>1993</td>\n",
       "      <td>796</td>\n",
       "      <td>566</td>\n",
       "      <td>1</td>\n",
       "      <td>1</td>\n",
       "      <td>5</td>\n",
       "    </tr>\n",
       "    <tr>\n",
       "      <th>6</th>\n",
       "      <td>10084</td>\n",
       "      <td>2004</td>\n",
       "      <td>1694</td>\n",
       "      <td>0</td>\n",
       "      <td>2</td>\n",
       "      <td>3</td>\n",
       "      <td>7</td>\n",
       "    </tr>\n",
       "    <tr>\n",
       "      <th>7</th>\n",
       "      <td>10382</td>\n",
       "      <td>1973</td>\n",
       "      <td>1107</td>\n",
       "      <td>983</td>\n",
       "      <td>2</td>\n",
       "      <td>3</td>\n",
       "      <td>7</td>\n",
       "    </tr>\n",
       "    <tr>\n",
       "      <th>8</th>\n",
       "      <td>6120</td>\n",
       "      <td>1931</td>\n",
       "      <td>1022</td>\n",
       "      <td>752</td>\n",
       "      <td>2</td>\n",
       "      <td>2</td>\n",
       "      <td>8</td>\n",
       "    </tr>\n",
       "    <tr>\n",
       "      <th>9</th>\n",
       "      <td>7420</td>\n",
       "      <td>1939</td>\n",
       "      <td>1077</td>\n",
       "      <td>0</td>\n",
       "      <td>1</td>\n",
       "      <td>2</td>\n",
       "      <td>5</td>\n",
       "    </tr>\n",
       "  </tbody>\n",
       "</table>\n",
       "</div>"
      ],
      "text/plain": [
       "   LotArea  YearBuilt  1stFlrSF  2ndFlrSF  FullBath  BedroomAbvGr  \\\n",
       "0     8450       2003       856       854         2             3   \n",
       "1     9600       1976      1262         0         2             3   \n",
       "2    11250       2001       920       866         2             3   \n",
       "3     9550       1915       961       756         1             3   \n",
       "4    14260       2000      1145      1053         2             4   \n",
       "5    14115       1993       796       566         1             1   \n",
       "6    10084       2004      1694         0         2             3   \n",
       "7    10382       1973      1107       983         2             3   \n",
       "8     6120       1931      1022       752         2             2   \n",
       "9     7420       1939      1077         0         1             2   \n",
       "\n",
       "   TotRmsAbvGrd  \n",
       "0             8  \n",
       "1             6  \n",
       "2             6  \n",
       "3             7  \n",
       "4             9  \n",
       "5             5  \n",
       "6             7  \n",
       "7             7  \n",
       "8             8  \n",
       "9             5  "
      ]
     },
     "execution_count": 7,
     "metadata": {},
     "output_type": "execute_result"
    },
    {
     "data": {
      "text/plain": [
       "array([208500., 181500., 223500., 140000., 250000., 143000., 307000.,\n",
       "       200000., 129900., 118000.])"
      ]
     },
     "execution_count": 7,
     "metadata": {},
     "output_type": "execute_result"
    },
    {
     "data": {
      "text/plain": [
       "0    208500\n",
       "1    181500\n",
       "2    223500\n",
       "3    140000\n",
       "4    250000\n",
       "5    143000\n",
       "6    307000\n",
       "7    200000\n",
       "8    129900\n",
       "9    118000\n",
       "Name: SalePrice, dtype: int64"
      ]
     },
     "execution_count": 7,
     "metadata": {},
     "output_type": "execute_result"
    }
   ],
   "source": [
    "X.head(10)\n",
    "tree_model.predict(X.head(10))\n",
    "data['SalePrice'].head(10)"
   ]
  },
  {
   "cell_type": "code",
   "execution_count": 8,
   "metadata": {
    "_cell_guid": "1b1e3ca2-0243-4812-892e-f20614ff324b",
    "_uuid": "e3214768b1ff3eab71c7d168838c1c30cb235b9a"
   },
   "outputs": [
    {
     "data": {
      "text/plain": [
       "62.35433789954339"
      ]
     },
     "execution_count": 8,
     "metadata": {},
     "output_type": "execute_result"
    }
   ],
   "source": [
    "from sklearn.metrics import mean_absolute_error\n",
    "predictions = tree_model.predict(X)\n",
    "mean_absolute_error(predictions, y)\n",
    "# In-sample score, not good"
   ]
  },
  {
   "cell_type": "markdown",
   "metadata": {
    "_cell_guid": "f1086e42-bde2-4b84-bb39-9d8e00e3e9d9",
    "_uuid": "e16269bfb4f46ab69971bd18632a3cc6eeb95719"
   },
   "source": [
    "Split into train and validation datasets to prevent the above:"
   ]
  },
  {
   "cell_type": "code",
   "execution_count": 9,
   "metadata": {
    "_cell_guid": "8aa57f06-1bb0-452c-970f-c82cd77fb112",
    "_uuid": "9c36a1adcd6065d824446ae772d57ec1fda1aaee"
   },
   "outputs": [
    {
     "data": {
      "text/plain": [
       "DecisionTreeRegressor(criterion='mse', max_depth=None, max_features=None,\n",
       "           max_leaf_nodes=None, min_impurity_decrease=0.0,\n",
       "           min_impurity_split=None, min_samples_leaf=1,\n",
       "           min_samples_split=2, min_weight_fraction_leaf=0.0,\n",
       "           presort=False, random_state=None, splitter='best')"
      ]
     },
     "execution_count": 9,
     "metadata": {},
     "output_type": "execute_result"
    },
    {
     "data": {
      "text/plain": [
       "33073.767123287675"
      ]
     },
     "execution_count": 9,
     "metadata": {},
     "output_type": "execute_result"
    }
   ],
   "source": [
    "from sklearn.model_selection import train_test_split\n",
    "train_X, val_X, train_y, val_y = train_test_split(X, y, random_state=0)\n",
    "tree_model.fit(train_X, train_y)\n",
    "\n",
    "predictions = tree_model.predict(val_X)\n",
    "mean_absolute_error(predictions, val_y)"
   ]
  },
  {
   "cell_type": "code",
   "execution_count": 10,
   "metadata": {
    "_cell_guid": "4cb917d8-913b-4fb1-8f77-9fc1d9280b89",
    "_uuid": "308b6be9a65a8e22b161c248a6b9e9370f9a825b"
   },
   "outputs": [],
   "source": [
    "# Use to see how well the Decision Tree model works with differet parameters for max leaf nodes\n",
    "def get_mae(max_leaf_nodes, train_X, val_X, train_y, val_y):\n",
    "    tree_model = DecisionTreeRegressor(max_leaf_nodes=max_leaf_nodes, random_state=0)\n",
    "    tree_model.fit(train_X, train_y)\n",
    "    predictions = tree_model.predict(val_X)\n",
    "    return mean_absolute_error(predictions, val_y)"
   ]
  },
  {
   "cell_type": "code",
   "execution_count": 11,
   "metadata": {
    "_cell_guid": "15a7c848-71dd-439f-a9dd-1d1f4bfda705",
    "_uuid": "804c5e35c766a3d3a777bc3e2d34fd7f7b90ecaf"
   },
   "outputs": [
    {
     "name": "stdout",
     "output_type": "stream",
     "text": [
      "Max leaf nodes: 10  \t \t Mean absolute error: 30616\n",
      "Max leaf nodes: 25  \t \t Mean absolute error: 28501\n",
      "Max leaf nodes: 50  \t \t Mean absolute error: 27825\n",
      "Max leaf nodes: 75  \t \t Mean absolute error: 27455\n",
      "Max leaf nodes: 100  \t \t Mean absolute error: 28653\n"
     ]
    }
   ],
   "source": [
    "for max_nodes in [10, 25, 50, 75, 100]:\n",
    "    mae = get_mae(max_nodes, train_X, val_X, train_y, val_y)\n",
    "    print(\"Max leaf nodes: %d  \\t \\t Mean absolute error: %d\" %(max_nodes, mae))"
   ]
  },
  {
   "cell_type": "markdown",
   "metadata": {
    "_cell_guid": "c690e83a-bbc3-4b28-81f2-242fd051f253",
    "_uuid": "7b4bc085868197f00229380f1b78f4d71b3338e1"
   },
   "source": [
    "Random Forest model, more advanced than Decision Tree:"
   ]
  },
  {
   "cell_type": "code",
   "execution_count": 12,
   "metadata": {
    "_cell_guid": "17760908-947d-41bd-92b0-adfbf302e652",
    "_uuid": "f07b52b774f3a020b39ee8683d0de099912f9b76",
    "scrolled": true
   },
   "outputs": [
    {
     "data": {
      "text/plain": [
       "RandomForestRegressor(bootstrap=True, criterion='mse', max_depth=None,\n",
       "           max_features=4, max_leaf_nodes=None, min_impurity_decrease=0.0,\n",
       "           min_impurity_split=None, min_samples_leaf=1,\n",
       "           min_samples_split=2, min_weight_fraction_leaf=0.0,\n",
       "           n_estimators=10, n_jobs=1, oob_score=False, random_state=0,\n",
       "           verbose=0, warm_start=False)"
      ]
     },
     "execution_count": 12,
     "metadata": {},
     "output_type": "execute_result"
    },
    {
     "data": {
      "text/plain": [
       "22555.539726027397"
      ]
     },
     "execution_count": 12,
     "metadata": {},
     "output_type": "execute_result"
    }
   ],
   "source": [
    "from sklearn.ensemble import RandomForestRegressor\n",
    "forest_model = RandomForestRegressor(max_features=4, random_state=0)\n",
    "forest_model.fit(train_X, train_y)\n",
    "predictions = forest_model.predict(val_X)\n",
    "mean_absolute_error(predictions, val_y)"
   ]
  },
  {
   "cell_type": "markdown",
   "metadata": {
    "_cell_guid": "eba08db6-df6d-4001-b29b-765f3a528a22",
    "_uuid": "7574b7516abd9fe86d28d172427e2bcb05f6265e"
   },
   "source": [
    "Submitting:"
   ]
  },
  {
   "cell_type": "code",
   "execution_count": 13,
   "metadata": {
    "_cell_guid": "a3c5683c-0ca7-4784-b96a-122dc1502778",
    "_uuid": "d05f1685dccc0e1a533066fb0940ccfed4251cbb"
   },
   "outputs": [
    {
     "data": {
      "text/plain": [
       "RandomForestRegressor(bootstrap=True, criterion='mse', max_depth=None,\n",
       "           max_features='auto', max_leaf_nodes=None,\n",
       "           min_impurity_decrease=0.0, min_impurity_split=None,\n",
       "           min_samples_leaf=1, min_samples_split=2,\n",
       "           min_weight_fraction_leaf=0.0, n_estimators=10, n_jobs=1,\n",
       "           oob_score=False, random_state=None, verbose=0, warm_start=False)"
      ]
     },
     "execution_count": 13,
     "metadata": {},
     "output_type": "execute_result"
    },
    {
     "data": {
      "text/plain": [
       "array([131750., 184250., 163550., ..., 156510., 146550., 250000.])"
      ]
     },
     "execution_count": 13,
     "metadata": {},
     "output_type": "execute_result"
    }
   ],
   "source": [
    "train = pd.read_csv('data/house_prices_train.csv')\n",
    "train_y = train['SalePrice']\n",
    "predictors = ['LotArea', 'OverallQual', 'YearBuilt', 'TotRmsAbvGrd']\n",
    "train_X = train[predictors]\n",
    "\n",
    "forest_model = RandomForestRegressor()\n",
    "forest_model.fit(train_X, train_y)\n",
    "\n",
    "test = pd.read_csv('data/house_prices_test.csv')\n",
    "predictions = forest_model.predict(test[predictors])\n",
    "predictions"
   ]
  },
  {
   "cell_type": "code",
   "execution_count": 14,
   "metadata": {
    "_cell_guid": "87cff464-9785-4953-920e-f534214241b0",
    "_uuid": "2b7892bec4fe776bd911e7f14e4746809232ccd3"
   },
   "outputs": [],
   "source": [
    "# submission = pd.DataFrame({'Id': test['Id'], 'SalePrice': predictions })\n",
    "# submission.to_csv('submission.csv', index=False)"
   ]
  },
  {
   "cell_type": "markdown",
   "metadata": {
    "_cell_guid": "38f074c3-f597-4c52-9cda-e6a4df47780f",
    "_uuid": "fc799faec44b9fda01b275710083e00ed5bf2261"
   },
   "source": [
    "## Level 2:"
   ]
  },
  {
   "cell_type": "code",
   "execution_count": 15,
   "metadata": {
    "_cell_guid": "d61e1236-78a6-4f23-a438-d76986c838e2",
    "_uuid": "c243151dbbe82c1d47a69ca04239c57fca4c18c7"
   },
   "outputs": [
    {
     "name": "stdout",
     "output_type": "stream",
     "text": [
      "Id                  0\n",
      "MSSubClass          0\n",
      "MSZoning            0\n",
      "LotFrontage       259\n",
      "LotArea             0\n",
      "Street              0\n",
      "Alley            1369\n",
      "LotShape            0\n",
      "LandContour         0\n",
      "Utilities           0\n",
      "LotConfig           0\n",
      "LandSlope           0\n",
      "Neighborhood        0\n",
      "Condition1          0\n",
      "Condition2          0\n",
      "BldgType            0\n",
      "HouseStyle          0\n",
      "OverallQual         0\n",
      "OverallCond         0\n",
      "YearBuilt           0\n",
      "YearRemodAdd        0\n",
      "RoofStyle           0\n",
      "RoofMatl            0\n",
      "Exterior1st         0\n",
      "Exterior2nd         0\n",
      "MasVnrType          8\n",
      "MasVnrArea          8\n",
      "ExterQual           0\n",
      "ExterCond           0\n",
      "Foundation          0\n",
      "                 ... \n",
      "BedroomAbvGr        0\n",
      "KitchenAbvGr        0\n",
      "KitchenQual         0\n",
      "TotRmsAbvGrd        0\n",
      "Functional          0\n",
      "Fireplaces          0\n",
      "FireplaceQu       690\n",
      "GarageType         81\n",
      "GarageYrBlt        81\n",
      "GarageFinish       81\n",
      "GarageCars          0\n",
      "GarageArea          0\n",
      "GarageQual         81\n",
      "GarageCond         81\n",
      "PavedDrive          0\n",
      "WoodDeckSF          0\n",
      "OpenPorchSF         0\n",
      "EnclosedPorch       0\n",
      "3SsnPorch           0\n",
      "ScreenPorch         0\n",
      "PoolArea            0\n",
      "PoolQC           1453\n",
      "Fence            1179\n",
      "MiscFeature      1406\n",
      "MiscVal             0\n",
      "MoSold              0\n",
      "YrSold              0\n",
      "SaleType            0\n",
      "SaleCondition       0\n",
      "SalePrice           0\n",
      "Length: 81, dtype: int64\n"
     ]
    }
   ],
   "source": [
    "print(data.isnull().sum())"
   ]
  },
  {
   "cell_type": "code",
   "execution_count": 16,
   "metadata": {
    "_cell_guid": "dfb274c8-858f-4190-ab77-a93a095e5b22",
    "_uuid": "07aa64d1d750f2db8ab0f031ba374e2997851b2a"
   },
   "outputs": [],
   "source": [
    "def print_mae(train_X, val_X, train_y, val_y):\n",
    "    forest_model = RandomForestRegressor(random_state=0)\n",
    "    forest_model.fit(train_X, train_y)\n",
    "    predictions = forest_model.predict(val_X)\n",
    "    print(mean_absolute_error(predictions, val_y))"
   ]
  },
  {
   "cell_type": "markdown",
   "metadata": {
    "_cell_guid": "14b792e5-286f-4653-bda8-b5fb1355f039",
    "_uuid": "569317e0bf6f1022a3d0bbd8528c580890afd66f"
   },
   "source": [
    "Taking care of null/missing values:"
   ]
  },
  {
   "cell_type": "code",
   "execution_count": 17,
   "metadata": {
    "_cell_guid": "ddd11056-f080-44da-bdb1-0b758e90492d",
    "_uuid": "74ac0b7184c87493da0f35c855ef240d2238519b"
   },
   "outputs": [
    {
     "name": "stdout",
     "output_type": "stream",
     "text": [
      "Dropping all columns with missing values: \n",
      "19895.280821917808\n"
     ]
    }
   ],
   "source": [
    "complete_data = data.dropna(axis=1)\n",
    "# Alternative (so that you can drop the columns in both train and test datasets): \n",
    "complete_columns = [col for col in data.columns \n",
    "                                if not data[col].isnull().any()]\n",
    "complete_data = data[complete_columns]\n",
    "\n",
    "reduced_y = complete_data['SalePrice']\n",
    "reduced_X = complete_data.drop('SalePrice', axis=1).select_dtypes(exclude=['object'])\n",
    "reduced_train_X, reduced_val_X, reduced_train_y, reduced_val_y = train_test_split(reduced_X, reduced_y, random_state=0)\n",
    "\n",
    "print(\"Dropping all columns with missing values: \")\n",
    "print_mae(reduced_train_X, reduced_val_X, reduced_train_y, reduced_val_y)"
   ]
  },
  {
   "cell_type": "code",
   "execution_count": 18,
   "metadata": {
    "_cell_guid": "b5d286f3-b10d-48c1-a531-1b3f49d2f9dc",
    "_uuid": "9b99443b82c7d72ed86d3c6cd6cc4bc29e055539"
   },
   "outputs": [
    {
     "name": "stdout",
     "output_type": "stream",
     "text": [
      "Using Imputer to impute missing values based on the mean of each column: \n",
      "18775.67095890411\n"
     ]
    }
   ],
   "source": [
    "from sklearn.preprocessing import Imputer\n",
    "imputer = Imputer()\n",
    "\n",
    "imputed_data = pd.DataFrame(imputer.fit_transform(data.select_dtypes(exclude='object')))\n",
    "imputed_data.index = data.index\n",
    "imputed_data.columns = data.select_dtypes(exclude='object').columns\n",
    "\n",
    "imputed_y = imputed_data['SalePrice']\n",
    "imputed_X = imputed_data.drop('SalePrice', axis=1)\n",
    "imputed_train_X, imputed_val_X, imputed_train_y, imputed_val_y = train_test_split(imputed_X, imputed_y)\n",
    "\n",
    "print(\"Using Imputer to impute missing values based on the mean of each column: \")\n",
    "print_mae(imputed_train_X, imputed_val_X, imputed_train_y, imputed_val_y)"
   ]
  },
  {
   "cell_type": "markdown",
   "metadata": {
    "_cell_guid": "b0d6c715-1820-482c-8aed-c6b311c63042",
    "_uuid": "b20969184d56fc5870007f3ef73ff35e437545f4"
   },
   "source": [
    "Imputing values and also adding columns to mark which values were imputed:"
   ]
  },
  {
   "cell_type": "code",
   "execution_count": 19,
   "metadata": {
    "_cell_guid": "1c9ce3e3-dc32-4e12-93cd-ee97290af22e",
    "_uuid": "59fde8785b248aafcd452aa755a7c017f40fc97c"
   },
   "outputs": [
    {
     "name": "stdout",
     "output_type": "stream",
     "text": [
      "Imputed values with columns keeping track of which were imputed: \n",
      "20152.964109589044\n"
     ]
    }
   ],
   "source": [
    "imputed_data_plus = imputed_data.copy()\n",
    "missing_columns = [col for col in data.columns\n",
    "                                if data[col].isnull().any()]\n",
    "for col in missing_columns:\n",
    "    imputed_data_plus[col + '_was_missing'] = data[col].isnull()\n",
    "\n",
    "imputed_y_plus = imputed_data_plus['SalePrice']\n",
    "imputed_X_plus = imputed_data_plus.drop('SalePrice', axis=1)\n",
    "\n",
    "imputed_train_X_plus, imputed_val_X_plus, imputed_train_y_plus, imputed_val_y_plus = train_test_split(imputed_X_plus, imputed_y_plus)\n",
    "print(\"Imputed values with columns keeping track of which were imputed: \")\n",
    "print_mae(imputed_train_X_plus, imputed_val_X_plus, imputed_train_y_plus, imputed_val_y_plus)"
   ]
  },
  {
   "cell_type": "markdown",
   "metadata": {
    "_cell_guid": "b5ce4737-f380-473b-851d-be66664fc250",
    "_uuid": "97b6548069f50795a467d542cfab870d1f791b4f"
   },
   "source": [
    "Most of the time, dropping columns is not a good way to deal with missing values. Also, keeping track of imputed values can help sometimes but not always (in the example above its MAE ranged from 17k-22k, whereas without keeping track, it ranged from maybe 18k-21k). "
   ]
  },
  {
   "cell_type": "markdown",
   "metadata": {
    "_cell_guid": "a036c6fb-65b0-47a6-ac11-d737f8560e74",
    "_uuid": "136856d34bce1b6bac1e547ea12e393fdf1d8e26",
    "collapsed": true
   },
   "source": [
    "One-Hot Encoding to turn categorical columns into numerical values that can be used to build the model:  "
   ]
  },
  {
   "cell_type": "code",
   "execution_count": 20,
   "metadata": {
    "_cell_guid": "6f44e49e-3169-4fdc-993b-85e1ebaf1d93",
    "_uuid": "6e1ebcf71e1ac6e00bee183d229be6fb8b8ad2bd"
   },
   "outputs": [
    {
     "data": {
      "text/plain": [
       "PoolArea        float64\n",
       "SaleType         object\n",
       "LotFrontage     float64\n",
       "PoolQC           object\n",
       "HouseStyle       object\n",
       "ExterCond        object\n",
       "GarageFinish     object\n",
       "ExterQual        object\n",
       "MiscVal         float64\n",
       "Condition2       object\n",
       "dtype: object"
      ]
     },
     "execution_count": 20,
     "metadata": {},
     "output_type": "execute_result"
    }
   ],
   "source": [
    "# Add back object columns with low cardinality to data with imputed values\\n\",\n",
    "# Cardinality means the number of unique values in a column\\n\",\n",
    "object_columns = [col for col in data.columns\n",
    "                                if (data[col].dtype == 'object') and data[col].nunique() < 10]\n",
    "imputed_data = imputed_data.join(data[object_columns])\n",
    "imputed_y = imputed_data['SalePrice']\n",
    "imputed_X = imputed_data.drop('SalePrice', axis=1)\n",
    "imputed_X.dtypes.sample(10)"
   ]
  },
  {
   "cell_type": "code",
   "execution_count": 21,
   "metadata": {
    "_cell_guid": "81743ea7-9aad-4d31-82db-d72a48e1f820",
    "_uuid": "b6258748efde032fa9864c64ae03b7138f261ecd"
   },
   "outputs": [
    {
     "data": {
      "text/plain": [
       "19188.52900924729"
      ]
     },
     "execution_count": 21,
     "metadata": {},
     "output_type": "execute_result"
    }
   ],
   "source": [
    "# get_dummies does the one hot encoding for you\\n\",\n",
    "one_hot_encoded_X = pd.get_dummies(imputed_X)\n",
    "\n",
    "from sklearn.model_selection import cross_val_score\n",
    "cross_val_score(RandomForestRegressor(random_state=0), one_hot_encoded_X, imputed_y, scoring='neg_mean_absolute_error').mean() * -1"
   ]
  },
  {
   "cell_type": "code",
   "execution_count": 22,
   "metadata": {
    "_cell_guid": "ddbd8bbe-f34d-4afd-a2fd-cdebf7bf3507",
    "_uuid": "2dd4843ed390ea36875b6578f04c1ef6776cd854"
   },
   "outputs": [],
   "source": [
    "# If you had train and test DataFrames, you'd need to align their columns or else it screws up the models:\n",
    "test = pd.read_csv('data/house_prices_test.csv')\n",
    "test_temp = pd.DataFrame(imputer.fit_transform(test.select_dtypes(exclude='object')))\n",
    "test_temp.index = test.index\n",
    "test_temp.columns = test.select_dtypes(exclude='object').columns\n",
    "object_columns = [col for col in test.columns\n",
    "                                if (test[col].dtype == 'object') and test[col].nunique() < 10]\n",
    "test_temp = test_temp.join(test[object_columns])\n",
    "test = pd.get_dummies(test_temp)\n",
    "\n",
    "# Something like:\n",
    "# train, test = train.align(test, join='inner', axis=1)"
   ]
  },
  {
   "cell_type": "markdown",
   "metadata": {
    "_cell_guid": "b02ebbbf-5eee-4d6d-b74d-bed1b5b85d04",
    "_uuid": "47d7a8cf22052fadf9720d6a4c22b9fd533e6120"
   },
   "source": [
    "XGBoost:"
   ]
  },
  {
   "cell_type": "code",
   "execution_count": 23,
   "metadata": {
    "_cell_guid": "97e72f40-cbb3-497b-ba2b-8b028d942d73",
    "_uuid": "e3e571412d7a1188e8238dd2fa503e06dae854d1"
   },
   "outputs": [],
   "source": [
    "# Rename the current data we're using to data:\n",
    "complete_data = data\n",
    "data = pd.get_dummies(imputed_data)\n",
    "\n",
    "X = data.drop('SalePrice', axis=1)\n",
    "y = data['SalePrice']\n",
    "X, test = X.align(test, join='left', axis=1)\n",
    "\n",
    "test['Id'] = test['Id'].astype('int32')\n",
    "data['Id'] = data['Id'].astype('int32')\n",
    "\n",
    "train_X, val_X, train_y, val_y = train_test_split(X, y, test_size=0.25)"
   ]
  },
  {
   "cell_type": "code",
   "execution_count": 24,
   "metadata": {
    "_cell_guid": "44044478-79e4-4e56-ae13-a754fd1f3770",
    "_uuid": "b53d108bed4c96f6abebcf86053ac4c991f40df1"
   },
   "outputs": [
    {
     "data": {
      "text/plain": [
       "XGBRegressor(base_score=0.5, booster='gbtree', colsample_bylevel=1,\n",
       "       colsample_bytree=1, gamma=0, learning_rate=0.1, max_delta_step=0,\n",
       "       max_depth=3, min_child_weight=1, missing=None, n_estimators=100,\n",
       "       n_jobs=1, nthread=None, objective='reg:linear', random_state=0,\n",
       "       reg_alpha=0, reg_lambda=1, scale_pos_weight=1, seed=None,\n",
       "       silent=True, subsample=1)"
      ]
     },
     "execution_count": 24,
     "metadata": {},
     "output_type": "execute_result"
    },
    {
     "name": "stdout",
     "output_type": "stream",
     "text": [
      "Error for XGBoost:\n",
      "17617.900663527398\n"
     ]
    }
   ],
   "source": [
    "from xgboost import XGBRegressor\n",
    "xgb_model = XGBRegressor()\n",
    "xgb_model.fit(train_X, train_y)\n",
    "predictions = xgb_model.predict(val_X)\n",
    "print(\"Error for XGBoost:\")\n",
    "print(mean_absolute_error(predictions, val_y))"
   ]
  },
  {
   "cell_type": "code",
   "execution_count": 25,
   "metadata": {
    "_cell_guid": "e22274a8-837c-4498-8d81-4dc1cb7a0447",
    "_uuid": "00a27e7050dc1a2f34813db0dd3d7b7d4ed262eb"
   },
   "outputs": [
    {
     "data": {
      "text/plain": [
       "XGBRegressor(base_score=0.5, booster='gbtree', colsample_bylevel=1,\n",
       "       colsample_bytree=1, gamma=0, learning_rate=0.1, max_delta_step=0,\n",
       "       max_depth=3, min_child_weight=1, missing=None, n_estimators=1000,\n",
       "       n_jobs=1, nthread=None, objective='reg:linear', random_state=0,\n",
       "       reg_alpha=0, reg_lambda=1, scale_pos_weight=1, seed=None,\n",
       "       silent=True, subsample=1)"
      ]
     },
     "execution_count": 25,
     "metadata": {},
     "output_type": "execute_result"
    },
    {
     "name": "stdout",
     "output_type": "stream",
     "text": [
      "17454.493953339042\n"
     ]
    }
   ],
   "source": [
    "# n_estimators is how many times to go through XGBoost's modeling cycle\n",
    "# learning_rate: multiply predictions feach model by small constant, each tree helps less, prevents overfitting\n",
    "xgb_model = XGBRegressor(n_estimators=1000, learning_rate=0.1)\n",
    "# Stop modeling cycle after 5 consecutive increases in validation error\n",
    "xgb_model.fit(train_X, train_y, early_stopping_rounds=5, eval_set=[(val_X, val_y)], verbose=False)\n",
    "# High n_estimators, low early_stopping_rounds might generally be the best performance, although takes longer to run\n",
    "predictions = xgb_model.predict(val_X)\n",
    "print(mean_absolute_error(predictions, val_y))\n",
    "# For large datasets, set n_jobs = # of cores computer has, parallelism to make fitting faster"
   ]
  },
  {
   "cell_type": "code",
   "execution_count": 26,
   "metadata": {
    "_cell_guid": "dcb69e18-cda2-4569-a492-daa9fef863b0",
    "_uuid": "6a656f1f423ec0f374876e89327e7281e4b209cb"
   },
   "outputs": [
    {
     "data": {
      "text/plain": [
       "array([125802.11, 168752.75, 183909.34, ..., 166484.47, 115949.33,\n",
       "       249662.05], dtype=float32)"
      ]
     },
     "execution_count": 26,
     "metadata": {},
     "output_type": "execute_result"
    }
   ],
   "source": [
    "predictions = xgb_model.predict(test)\n",
    "predictions"
   ]
  },
  {
   "cell_type": "code",
   "execution_count": 27,
   "metadata": {
    "_cell_guid": "a6d71c1e-d418-4dcf-aa64-199b3e9959d4",
    "_uuid": "ba802e3313396b1aca17112f49b522a87fee69bb"
   },
   "outputs": [],
   "source": [
    "# submission = pd.DataFrame({'Id': test['Id'], 'SalePrice': predictions })\n",
    "# submission.to_csv('submission.csv', index=False)"
   ]
  },
  {
   "cell_type": "markdown",
   "metadata": {
    "_cell_guid": "d97027a2-b9a5-4f5f-9fcd-85f3c4a9978d",
    "_uuid": "56ca7d18cefe05767ef5d45a80127a7d9e629bb5"
   },
   "source": [
    "Partial Dependence Plots:"
   ]
  },
  {
   "cell_type": "code",
   "execution_count": 28,
   "metadata": {
    "_cell_guid": "5248a18d-6d94-4af3-b782-aa0d7b9a55ff",
    "_uuid": "948dd837939ad388358b37abe72ab4bf2595fdcd"
   },
   "outputs": [
    {
     "data": {
      "text/plain": [
       "GradientBoostingRegressor(alpha=0.9, criterion='friedman_mse', init=None,\n",
       "             learning_rate=0.1, loss='ls', max_depth=3, max_features=None,\n",
       "             max_leaf_nodes=None, min_impurity_decrease=0.0,\n",
       "             min_impurity_split=None, min_samples_leaf=1,\n",
       "             min_samples_split=2, min_weight_fraction_leaf=0.0,\n",
       "             n_estimators=100, presort='auto', random_state=None,\n",
       "             subsample=1.0, verbose=0, warm_start=False)"
      ]
     },
     "execution_count": 28,
     "metadata": {},
     "output_type": "execute_result"
    },
    {
     "data": {
      "image/png": "[encoded data removed]",
      "text/plain": [
       "<matplotlib.figure.Figure at 0x10bea22b0>"
      ]
     },
     "metadata": {},
     "output_type": "display_data"
    }
   ],
   "source": [
    "from sklearn.ensemble import GradientBoostingRegressor\n",
    "from sklearn.ensemble.partial_dependence import partial_dependence, plot_partial_dependence\n",
    "model = GradientBoostingRegressor() # Only works on gradient boosting models\n",
    "model.fit(X, y)\n",
    "my_plot = plot_partial_dependence(model, features=[2, 3], X=X, feature_names=X.columns, grid_resolution=10)"
   ]
  },
  {
   "cell_type": "markdown",
   "metadata": {
    "_cell_guid": "2ef3be12-0d3a-4753-9836-ea4f1e4c77fc",
    "_uuid": "06195dd50fc2b0cd97d2329c908bd95ff35457d4"
   },
   "source": [
    "Shows that as lot area increases, house price increases also. "
   ]
  },
  {
   "cell_type": "markdown",
   "metadata": {
    "_cell_guid": "97f59a83-5a92-4393-b5f2-67429eb7579c",
    "_uuid": "3cc5a29eda1a65a38134662fcf44b52968856ed1"
   },
   "source": [
    "Pipelines:"
   ]
  },
  {
   "cell_type": "code",
   "execution_count": 29,
   "metadata": {
    "_cell_guid": "6181cc55-9919-41c9-a6aa-ebeaa37a8a88",
    "_uuid": "5713d99434c48e6be4fe2584fdba66a305c52a70"
   },
   "outputs": [],
   "source": [
    "from sklearn.pipeline import make_pipeline\n",
    "\n",
    "train_X, val_X, train_y, val_y = train_test_split(X, y, test_size=0.25)\n",
    "pipeline = make_pipeline(Imputer(), RandomForestRegressor())"
   ]
  },
  {
   "cell_type": "code",
   "execution_count": 30,
   "metadata": {
    "_cell_guid": "ff5cbb65-5192-42b4-8829-755af497285d",
    "_uuid": "668aaa4381df1fb0f9e17c69eee60e64cc5ee27f"
   },
   "outputs": [
    {
     "data": {
      "text/plain": [
       "Pipeline(memory=None,\n",
       "     steps=[('imputer', Imputer(axis=0, copy=True, missing_values='NaN', strategy='mean', verbose=0)), ('randomforestregressor', RandomForestRegressor(bootstrap=True, criterion='mse', max_depth=None,\n",
       "           max_features='auto', max_leaf_nodes=None,\n",
       "           min_impurity_decrease=0.0, min_impurity_s...timators=10, n_jobs=1,\n",
       "           oob_score=False, random_state=None, verbose=0, warm_start=False))])"
      ]
     },
     "execution_count": 30,
     "metadata": {},
     "output_type": "execute_result"
    },
    {
     "data": {
      "text/plain": [
       "18648.3704109589"
      ]
     },
     "execution_count": 30,
     "metadata": {},
     "output_type": "execute_result"
    }
   ],
   "source": [
    "pipeline.fit(train_X, train_y)\n",
    "predictions = pipeline.predict(val_X)\n",
    "mean_absolute_error(predictions, val_y)"
   ]
  },
  {
   "cell_type": "markdown",
   "metadata": {
    "_cell_guid": "3c025411-5075-4e18-8b36-ead54a24083f",
    "_uuid": "03868a890a194b3b915307bcdb6d60c4ada539ba"
   },
   "source": [
    "Cross Validation:   \n",
    "\n",
    "Better accuracy than train_test_split, although takes longer. For small datasets, use it, but for large datasets, it might take too long when train_test_split would be able to do just fine. "
   ]
  },
  {
   "cell_type": "code",
   "execution_count": 31,
   "metadata": {
    "_cell_guid": "056eb000-1e57-441b-9135-8f12be82fce3",
    "_uuid": "601a45860504d1f599d50c9532c2f2d2616167ae"
   },
   "outputs": [
    {
     "data": {
      "text/plain": [
       "array([-19362.20718686, -19089.73080082, -20116.70967078])"
      ]
     },
     "execution_count": 31,
     "metadata": {},
     "output_type": "execute_result"
    }
   ],
   "source": [
    "from sklearn.model_selection import cross_val_score\n",
    "model = RandomForestRegressor()\n",
    "cross_val_score(model, X, y, scoring='neg_mean_absolute_error')"
   ]
  },
  {
   "cell_type": "code",
   "execution_count": 32,
   "metadata": {
    "_cell_guid": "490b54d5-7a67-4e81-8039-c3b98553dfe9",
    "_uuid": "ff44a0950ec8d2fff2a00320b72c50deeea72722"
   },
   "outputs": [
    {
     "data": {
      "text/plain": [
       "19893.3111357574"
      ]
     },
     "execution_count": 32,
     "metadata": {},
     "output_type": "execute_result"
    }
   ],
   "source": [
    "cross_val_score(model, X, y, scoring='neg_mean_absolute_error').mean() * -1"
   ]
  },
  {
   "cell_type": "markdown",
   "metadata": {
    "_uuid": "24202319c63377c73772960e9d3663466f742251"
   },
   "source": [
    "Avoid data leakage by performing preprocessing after split or with a pipeline:"
   ]
  },
  {
   "cell_type": "code",
   "execution_count": 33,
   "metadata": {
    "_uuid": "29193575e561ea0844759321283ed487457a7f15"
   },
   "outputs": [],
   "source": [
    "X = complete_data.drop('SalePrice', axis=1)\n",
    "y = complete_data['SalePrice']\n",
    "columns = [col for col in X.columns\n",
    "                      if X[col].dtype != 'object' or X[col].nunique() < 10]\n",
    "X = X[columns]\n",
    "X = pd.get_dummies(X)\n",
    "\n",
    "test = pd.read_csv('data/house_prices_test.csv')\n",
    "columns = [col for col in test.columns\n",
    "                      if test[col].dtype != 'object' or test[col].nunique() < 10]\n",
    "test = test[columns]\n",
    "test = pd.get_dummies(test)\n",
    "\n",
    "X, test = X.align(test, join='outer', axis=1)"
   ]
  },
  {
   "cell_type": "code",
   "execution_count": 34,
   "metadata": {
    "_uuid": "93531850cdd84e9ba77980d176c36c5d260b535d"
   },
   "outputs": [
    {
     "data": {
      "text/plain": [
       "16445.914405270483"
      ]
     },
     "execution_count": 34,
     "metadata": {},
     "output_type": "execute_result"
    }
   ],
   "source": [
    "from sklearn.preprocessing import Imputer\n",
    "from sklearn.pipeline import make_pipeline\n",
    "from sklearn.model_selection import cross_val_score\n",
    "\n",
    "pipeline = make_pipeline(Imputer(), XGBRegressor())\n",
    "cross_val_score(pipeline, X, y, scoring='neg_mean_absolute_error').mean() * -1"
   ]
  },
  {
   "cell_type": "code",
   "execution_count": 35,
   "metadata": {
    "_uuid": "831770297e8f5bd59f39ec922adbbef62221a947"
   },
   "outputs": [
    {
     "data": {
      "text/plain": [
       "Pipeline(memory=None,\n",
       "     steps=[('imputer', Imputer(axis=0, copy=True, missing_values='NaN', strategy='mean', verbose=0)), ('xgbregressor', XGBRegressor(base_score=0.5, booster='gbtree', colsample_bylevel=1,\n",
       "       colsample_bytree=1, gamma=0, learning_rate=0.1, max_delta_step=0,\n",
       "       max_depth=3, min_child_weight=1, missing=None, n_estimators=100,\n",
       "       n_jobs=1, nthread=None, objective='reg:linear', random_state=0,\n",
       "       reg_alpha=0, reg_lambda=1, scale_pos_weight=1, seed=None,\n",
       "       silent=True, subsample=1))])"
      ]
     },
     "execution_count": 35,
     "metadata": {},
     "output_type": "execute_result"
    }
   ],
   "source": [
    "pipeline.fit(X, y)\n",
    "predictions = pipeline.predict(test)\n",
    "\n",
    "submission = pd.DataFrame({'Id': test['Id'], 'SalePrice': predictions})\n",
    "submission.to_csv('housing_submission.csv', index=False)"
   ]
  },
  {
   "cell_type": "markdown",
   "metadata": {},
   "source": [
    "Final public submission score for Kaggle's [House Prices: Advanced Regression Techniques](https://www.kaggle.com/c/house-prices-advanced-regression-techniques) challenge: 0.13679 (1885 out of 4512)"
   ]
  }
 ],
 "metadata": {
  "kernelspec": {
   "display_name": "Python 3",
   "language": "python",
   "name": "python3"
  },
  "language_info": {
   "codemirror_mode": {
    "name": "ipython",
    "version": 3
   },
   "file_extension": ".py",
   "mimetype": "text/x-python",
   "name": "python",
   "nbconvert_exporter": "python",
   "pygments_lexer": "ipython3",
   "version": "3.6.4"
  }
 },
 "nbformat": 4,
 "nbformat_minor": 1
}
