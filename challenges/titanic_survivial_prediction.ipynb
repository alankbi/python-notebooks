{
  "cells": [
    {
      "metadata": {
        "_cell_guid": "b1076dfc-b9ad-4769-8c92-a6c4dae69d19",
        "_uuid": "8f2839f25d086af736a60e9eeb907d3b93b6e0e5",
        "collapsed": true,
        "trusted": true
      },
      "cell_type": "code",
      "source": "%matplotlib inline\nimport numpy as np\nimport pandas as pd\nimport matplotlib.pyplot as plt\n\nfrom IPython.core.interactiveshell import InteractiveShell\nInteractiveShell.ast_node_interactivity = \"all\"\n\ntrain = pd.read_csv('../input/train.csv')\ntest = pd.read_csv('../input/test.csv')\n\n# \ndata = [train, test]\n\ntrain.head(3)\ntrain.describe()",
      "execution_count": null,
      "outputs": []
    },
    {
      "metadata": {
        "_cell_guid": "49b1c740-06bd-4abe-b257-114650f574c2",
        "_uuid": "5b33d66ab83d66f4bf946dfba262cbaf5cc023d4",
        "collapsed": true,
        "trusted": true
      },
      "cell_type": "code",
      "source": "for dataset in data:\n    dataset['FamilySize'] = dataset['SibSp'] + dataset['Parch']\ntrain['FamilySize'].plot(kind='hist')",
      "execution_count": null,
      "outputs": []
    },
    {
      "metadata": {
        "_cell_guid": "b58a4acd-ecb8-447a-986f-b622d7ee8868",
        "_uuid": "ae6553e2b357f20cf7d6da24883d65b9a0ac6782",
        "collapsed": true,
        "trusted": true
      },
      "cell_type": "code",
      "source": "pd.pivot_table(train, values='Survived', index='Pclass', columns='Sex')\nfor dataset in data:\n    dataset['Sex'] = dataset['Sex'].map({'male': 0, 'female': 1}).astype('int')",
      "execution_count": null,
      "outputs": []
    },
    {
      "metadata": {
        "_cell_guid": "5f9a4c52-6b2e-41d0-87e9-815e2ff30fe3",
        "_uuid": "199f2794ac78996f1e1547671056db70f666f021",
        "collapsed": true,
        "trusted": true
      },
      "cell_type": "code",
      "source": "train['Fare'].plot(kind='hist', bins=20)\nfor dataset in data:\n    # dataset['Fare'].fillna(dataset['Fare'].median(), inplace=True) - no null vals, also this would have caused data leakage\n    dataset['Fare'] = pd.cut(dataset['Fare'], bins=[-1, 50, 200, 10000], labels=[0, 1, 2])\n    dataset['Fare'] = dataset['Fare'].astype('int')\nfig = plt.figure()\ntrain['Fare'].hist()",
      "execution_count": null,
      "outputs": []
    },
    {
      "metadata": {
        "_cell_guid": "94b68502-aa4f-4f0a-811b-6555fcf48071",
        "_uuid": "fc75c2d2d09fefdaa3f72ef306b6319f9233260c",
        "collapsed": true,
        "trusted": true
      },
      "cell_type": "code",
      "source": "pd.pivot_table(train, values='Survived', index='Embarked')\nfor dataset in data:\n    dataset['Embarked'].fillna('Other', inplace=True)\n    dataset['Embarked'] = dataset['Embarked'].map({'Other': 0, 'S': 1, 'Q': 2, 'C': 3}).astype('int')\ntrain['Embarked'].value_counts()",
      "execution_count": null,
      "outputs": []
    },
    {
      "metadata": {
        "_cell_guid": "37b458b0-934d-4372-b4a5-771e47fddcc5",
        "_uuid": "6c99f3be595c106684b9dc2319e7884f5c2817bf",
        "collapsed": true,
        "trusted": true
      },
      "cell_type": "code",
      "source": "train.head(3)\nfor dataset in data:\n    dataset = dataset.drop(['SibSp', 'Parch', 'Ticket', 'Cabin'], axis=1, inplace=True)",
      "execution_count": null,
      "outputs": []
    },
    {
      "metadata": {
        "_cell_guid": "63cbd2f4-6b4a-40e2-978e-da9551401423",
        "_uuid": "172ca7f395cdd6a40fc3b7db57bde6508fc1b70c",
        "collapsed": true,
        "trusted": true
      },
      "cell_type": "code",
      "source": "for dataset in data:\n    # Takes the substring between a space and period to get the title of the person\n    dataset['Title'] = dataset['Name'].apply(lambda x: x[x[0:x.index('.')].rfind(' ') + 1:x.index('.')])\n    dataset['Title'] = dataset['Title'].replace(list(set(dataset['Title'].unique()) - {'Mr', 'Miss', 'Mrs', 'Master'}), 'Other')\n    dataset['Title'].fillna('Other', inplace=True)\n    dataset['Title'] = dataset['Title'].map({'Other': 0, 'Mr': 1, 'Miss': 2, 'Mrs': 3, 'Master': 4}).astype('int')\n    dataset = dataset.drop('Name', axis=1, inplace=True)\ntrain['Title'].value_counts()\npd.pivot_table(train, values='Survived', index='Title')",
      "execution_count": null,
      "outputs": []
    },
    {
      "metadata": {
        "_cell_guid": "c0bcd1c5-a593-409b-90a2-9dd289818a0d",
        "_uuid": "37e6a9ef63d9944cbfc76e15d5d2bec6bf67767a",
        "collapsed": true,
        "trusted": true
      },
      "cell_type": "code",
      "source": "train.apply(lambda x: x.isnull()).sum()\n# Use imputer to fill missing values for Age during cross validation\n\"\"\"\"pivot = pd.pivot_table(train, values='Age', index='Pclass', columns=['Sex'], aggfunc='median')\npivot\n\ndef impute_age(x):\n    return pivot.loc[x['Pclass'], x['Sex']]\n\nfor dataset in data:\n    dataset['Age'].fillna(dataset[dataset['Age'].isnull()].apply(impute_age, axis=1), inplace=True)\ntrain.apply(lambda x: x.isnull()).sum()\"\"\"",
      "execution_count": null,
      "outputs": []
    },
    {
      "metadata": {
        "_cell_guid": "6e6d48b5-cb4b-4bf9-bf27-b9bab05eef08",
        "_uuid": "c3d32d3897040c2c6d70f2549afac7efd24fc9f2"
      },
      "cell_type": "markdown",
      "source": "Try to find good models: "
    },
    {
      "metadata": {
        "_cell_guid": "f2e4127d-ca79-491e-a2b4-ac882484b4a7",
        "_uuid": "d1ab34d99ee256140fc06a0162c96c69e17a694d",
        "collapsed": true,
        "trusted": true
      },
      "cell_type": "code",
      "source": "# SVC, KNeighbors, Random Forest, XGBoost\nfrom sklearn.pipeline import make_pipeline, Pipeline\nfrom sklearn.preprocessing import Imputer\nfrom sklearn.model_selection import KFold\n\nfrom sklearn.svm import SVC\nfrom sklearn.neighbors import KNeighborsClassifier\nfrom sklearn.ensemble import RandomForestClassifier\nfrom xgboost import XGBClassifier",
      "execution_count": null,
      "outputs": []
    },
    {
      "metadata": {
        "_cell_guid": "decfe4e4-496a-4a5b-ac59-ef1c60b8918c",
        "_uuid": "78fdfd223ab41f8e998b425d9d8463eb25ba4a8e",
        "collapsed": true,
        "trusted": true
      },
      "cell_type": "code",
      "source": "svc_pipeline = make_pipeline(Imputer(), SVC())\nknn_pipeline = make_pipeline(Imputer(), KNeighborsClassifier())\nforest_pipeline = make_pipeline(Imputer(), RandomForestClassifier())\nxgb_pipeline = make_pipeline(Imputer(), XGBClassifier())\nmodels = [svc_pipeline, knn_pipeline, forest_pipeline, xgb_pipeline]",
      "execution_count": null,
      "outputs": []
    },
    {
      "metadata": {
        "_cell_guid": "be01a142-d788-4d97-bf0a-1689b383db2a",
        "_uuid": "951bcac84386f8a1fa7f688f7e9c4af847ae42f1",
        "collapsed": true,
        "trusted": true
      },
      "cell_type": "code",
      "source": "import warnings\nwarnings.filterwarnings(\"ignore\", category=DeprecationWarning)\n\nX = train.drop('Survived', axis=1)\ny = train['Survived']\nnp_X = np.array(X)\nnp_y = np.array(y)\n\nkfold = KFold(n_splits=10)\nfor i, model in enumerate(models): \n    error_sum = 0\n    for train_indexes, test_indexes in kfold.split(X):\n        train_X, test_X = np_X[train_indexes], np_X[test_indexes]\n        train_y, test_y = np_y[train_indexes], np_y[test_indexes]\n        \n        # Redirect output from calling fit so it doesn't cause clutter \n        output = model.fit(train_X, train_y)\n        error_sum += model.score(test_X, test_y)\n    error_sum /= 10\n    print(\"Score for Model #{}: {}\".format(i, error_sum))",
      "execution_count": null,
      "outputs": []
    },
    {
      "metadata": {
        "_cell_guid": "0a010999-94b8-4a0f-b121-a34c72a0bbab",
        "_uuid": "4a15e8f6f7b9222921b02d72bf3c4ab3e7785c1f"
      },
      "cell_type": "markdown",
      "source": "XGBoost is the best model. "
    },
    {
      "metadata": {
        "_cell_guid": "088772d3-0a7d-4172-8be2-8efa1fb76bb1",
        "_uuid": "891b824454798fcdfa5978259f926af69dc2581b"
      },
      "cell_type": "markdown",
      "source": "Tune parameters (n_estimators, early_stopping_rounds, and learning_rate):"
    },
    {
      "metadata": {
        "_cell_guid": "e9d2a9eb-1348-44f8-9c78-0db6a4770406",
        "_uuid": "9124121fac29a164d254544ce7bebb687816f1a8",
        "collapsed": true,
        "trusted": true
      },
      "cell_type": "code",
      "source": "estimators = [100, 500, 1000]\nstopping_rounds = [1, 5, 10]\nrates = [0.1, 0.5, 1]\nfor estimator in estimators:\n    for stopping_round in stopping_rounds:\n        for rate in rates:\n            xgb_pipeline = Pipeline([('imputer', Imputer()), \n                                          ('xgb', XGBClassifier(estimators=estimator, learning_rate=rate))])\n            error_sum = 0\n            for train_indexes, test_index in kfold.split(X):\n                train_X, test_X = np_X[train_indexes], np_X[test_indexes]\n                train_y, test_y = np_y[train_indexes], np_y[test_indexes]\n                output = xgb_pipeline.fit(train_X, train_y, xgb__eval_set=[(test_X, test_y)], \n                                          xgb__early_stopping_rounds=stopping_round, xgb__verbose=False)\n                error_sum += xgb_pipeline.score(test_X, test_y)\n            error_sum /= 10\n            print(\"n_estimators: {} \\t early_stopping_rounds: {} \\t learning_rate: {} \\t Score: {}\".format(estimator, stopping_round, rate, error_sum))\n",
      "execution_count": null,
      "outputs": []
    },
    {
      "metadata": {
        "_cell_guid": "f5b53df2-5865-497e-a443-372d18313e8f",
        "_uuid": "aaaf6c17babec9aff06d8f6e19f79c624e967b47"
      },
      "cell_type": "markdown",
      "source": "Learning rate and early stopping rounds seems to be the two things affecting the score, with learning_rate=1 and early_stopping_rounds=10 being the best combo.  "
    },
    {
      "metadata": {
        "_cell_guid": "1da29104-8d19-413d-b12d-8be82709cc72",
        "_uuid": "6d804c879061e725c5a386e7a37a9314de95b7ed",
        "trusted": true
      },
      "cell_type": "code",
      "source": "from sklearn.model_selection import train_test_split\ntrain_X, val_X, train_y, val_y = train_test_split(X, y, test_size=0.30)\n\nxgb_pipeline = Pipeline([('imputer', Imputer()), ('xgb', XGBClassifier(learning_rate=0.1))])\noutput = xgb_pipeline.fit(train_X, train_y, xgb__eval_set=[(np.array(val_X), np.array(val_y))], xgb__early_stopping_rounds=10, xgb__verbose=False)\npredictions = xgb_pipeline.predict(val_X)\n\nfrom sklearn.metrics import mean_absolute_error\nmean_absolute_error(predictions, val_y)",
      "execution_count": 2,
      "outputs": [
        {
          "ename": "NameError",
          "evalue": "name 'X' is not defined",
          "output_type": "error",
          "traceback": [
            "\u001b[0;31m---------------------------------------------------------------------------\u001b[0m",
            "\u001b[0;31mNameError\u001b[0m                                 Traceback (most recent call last)",
            "\u001b[0;32m<ipython-input-2-4f319f1dca9e>\u001b[0m in \u001b[0;36m<module>\u001b[0;34m()\u001b[0m\n\u001b[1;32m      1\u001b[0m \u001b[0;32mfrom\u001b[0m \u001b[0msklearn\u001b[0m\u001b[0;34m.\u001b[0m\u001b[0mmodel_selection\u001b[0m \u001b[0;32mimport\u001b[0m \u001b[0mtrain_test_split\u001b[0m\u001b[0;34m\u001b[0m\u001b[0m\n\u001b[0;32m----> 2\u001b[0;31m \u001b[0mtrain_X\u001b[0m\u001b[0;34m,\u001b[0m \u001b[0mval_X\u001b[0m\u001b[0;34m,\u001b[0m \u001b[0mtrain_y\u001b[0m\u001b[0;34m,\u001b[0m \u001b[0mval_y\u001b[0m \u001b[0;34m=\u001b[0m \u001b[0mtrain_test_split\u001b[0m\u001b[0;34m(\u001b[0m\u001b[0mX\u001b[0m\u001b[0;34m,\u001b[0m \u001b[0my\u001b[0m\u001b[0;34m,\u001b[0m \u001b[0mtest_size\u001b[0m\u001b[0;34m=\u001b[0m\u001b[0;36m0.30\u001b[0m\u001b[0;34m)\u001b[0m\u001b[0;34m\u001b[0m\u001b[0m\n\u001b[0m\u001b[1;32m      3\u001b[0m \u001b[0;34m\u001b[0m\u001b[0m\n\u001b[1;32m      4\u001b[0m \u001b[0mxgb_pipeline\u001b[0m \u001b[0;34m=\u001b[0m \u001b[0mPipeline\u001b[0m\u001b[0;34m(\u001b[0m\u001b[0;34m[\u001b[0m\u001b[0;34m(\u001b[0m\u001b[0;34m'imputer'\u001b[0m\u001b[0;34m,\u001b[0m \u001b[0mImputer\u001b[0m\u001b[0;34m(\u001b[0m\u001b[0;34m)\u001b[0m\u001b[0;34m)\u001b[0m\u001b[0;34m,\u001b[0m \u001b[0;34m(\u001b[0m\u001b[0;34m'xgb'\u001b[0m\u001b[0;34m,\u001b[0m \u001b[0mXGBClassifier\u001b[0m\u001b[0;34m(\u001b[0m\u001b[0mlearning_rate\u001b[0m\u001b[0;34m=\u001b[0m\u001b[0;36m0.1\u001b[0m\u001b[0;34m)\u001b[0m\u001b[0;34m)\u001b[0m\u001b[0;34m]\u001b[0m\u001b[0;34m)\u001b[0m\u001b[0;34m\u001b[0m\u001b[0m\n\u001b[1;32m      5\u001b[0m \u001b[0moutput\u001b[0m \u001b[0;34m=\u001b[0m \u001b[0mxgb_pipeline\u001b[0m\u001b[0;34m.\u001b[0m\u001b[0mfit\u001b[0m\u001b[0;34m(\u001b[0m\u001b[0mtrain_X\u001b[0m\u001b[0;34m,\u001b[0m \u001b[0mtrain_y\u001b[0m\u001b[0;34m,\u001b[0m \u001b[0mxgb__eval_set\u001b[0m\u001b[0;34m=\u001b[0m\u001b[0;34m[\u001b[0m\u001b[0;34m(\u001b[0m\u001b[0mnp\u001b[0m\u001b[0;34m.\u001b[0m\u001b[0marray\u001b[0m\u001b[0;34m(\u001b[0m\u001b[0mval_X\u001b[0m\u001b[0;34m)\u001b[0m\u001b[0;34m,\u001b[0m \u001b[0mnp\u001b[0m\u001b[0;34m.\u001b[0m\u001b[0marray\u001b[0m\u001b[0;34m(\u001b[0m\u001b[0mval_y\u001b[0m\u001b[0;34m)\u001b[0m\u001b[0;34m)\u001b[0m\u001b[0;34m]\u001b[0m\u001b[0;34m,\u001b[0m \u001b[0mxgb__early_stopping_rounds\u001b[0m\u001b[0;34m=\u001b[0m\u001b[0;36m10\u001b[0m\u001b[0;34m,\u001b[0m \u001b[0mxgb__verbose\u001b[0m\u001b[0;34m=\u001b[0m\u001b[0;32mFalse\u001b[0m\u001b[0;34m)\u001b[0m\u001b[0;34m\u001b[0m\u001b[0m\n",
            "\u001b[0;31mNameError\u001b[0m: name 'X' is not defined"
          ]
        }
      ]
    },
    {
      "metadata": {
        "_uuid": "242e6c7877a59b146492e60c99c25e2974e4230a"
      },
      "cell_type": "markdown",
      "source": "learning_rate=1 seems to cause overfitting, so instead sticking to the default of 0.1. "
    },
    {
      "metadata": {
        "_cell_guid": "33dbd4b6-eb8e-4a8f-bf2b-46777926bd3d",
        "_uuid": "37b868e107cb4934f5a9c65361e6b58a96c66581",
        "collapsed": true,
        "trusted": true
      },
      "cell_type": "code",
      "source": "predictions = xgb_pipeline.predict(test)\nsubmission = pd.DataFrame({'PassengerId': test['PassengerId'], 'Survived': predictions})\nsubmission.to_csv('submission.csv', index=False)",
      "execution_count": null,
      "outputs": []
    },
    {
      "metadata": {
        "_cell_guid": "3af08b33-e516-458b-b5a2-64eb761cdeda",
        "_uuid": "046b6600ed78f1b031c5c9f06dfea622f63073f2",
        "collapsed": true,
        "trusted": true
      },
      "cell_type": "code",
      "source": "",
      "execution_count": null,
      "outputs": []
    }
  ],
  "metadata": {
    "kernelspec": {
      "display_name": "Python 3",
      "language": "python",
      "name": "python3"
    },
    "language_info": {
      "name": "python",
      "version": "3.6.4",
      "mimetype": "text/x-python",
      "codemirror_mode": {
        "name": "ipython",
        "version": 3
      },
      "pygments_lexer": "ipython3",
      "nbconvert_exporter": "python",
      "file_extension": ".py"
    }
  },
  "nbformat": 4,
  "nbformat_minor": 1
}