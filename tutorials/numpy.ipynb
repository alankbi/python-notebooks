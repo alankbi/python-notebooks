{
 "cells": [
  {
   "cell_type": "markdown",
   "metadata": {},
   "source": [
    "### NumPy's [Quickstart Tutorial](https://docs.scipy.org/doc/numpy-dev/user/quickstart.html)"
   ]
  },
  {
   "cell_type": "code",
   "execution_count": 1,
   "metadata": {},
   "outputs": [],
   "source": [
    "import numpy as np"
   ]
  },
  {
   "cell_type": "code",
   "execution_count": 2,
   "metadata": {},
   "outputs": [
    {
     "name": "stdout",
     "output_type": "stream",
     "text": [
      "[[ 0  1  2]\n",
      " [ 3  4  5]\n",
      " [ 6  7  8]\n",
      " [ 9 10 11]]\n",
      "<class 'numpy.ndarray'>\n",
      "Shape: (4, 3)\n",
      "Rank (number of axes/dimensions): 2\n",
      "Size: 12\n",
      "Type: int64\n"
     ]
    }
   ],
   "source": [
    "arr = [[0, 1, 2],\n",
    "       [3, 4, 5],\n",
    "       [6, 7, 8],\n",
    "       [9, 10, 11]]\n",
    "np_arr = np.array(arr)\n",
    "\n",
    "print(np_arr)\n",
    "print(type(np_arr))\n",
    "print(\"Shape: \" + str(np_arr.shape))\n",
    "print(\"Rank (number of axes/dimensions): \" + str(np_arr.ndim))\n",
    "print(\"Size: \" + str(np_arr.size))\n",
    "print(\"Type: \" + str(np_arr.dtype))"
   ]
  },
  {
   "cell_type": "markdown",
   "metadata": {},
   "source": [
    "NumPy arrays automatically convert elements to a single type that can be specified: "
   ]
  },
  {
   "cell_type": "code",
   "execution_count": 3,
   "metadata": {},
   "outputs": [
    {
     "name": "stdout",
     "output_type": "stream",
     "text": [
      "[1.5 2.5 3.  4.  5. ]\n",
      "Type: float64\n"
     ]
    }
   ],
   "source": [
    "np_arr = np.array([1.5, 2.5, 3, 4, 5])\n",
    "print(np_arr)\n",
    "print(\"Type: \" + str(np_arr.dtype))"
   ]
  },
  {
   "cell_type": "code",
   "execution_count": 4,
   "metadata": {},
   "outputs": [
    {
     "name": "stdout",
     "output_type": "stream",
     "text": [
      "[1 2 3 4 5]\n",
      "Type: int64\n"
     ]
    }
   ],
   "source": [
    "np_arr = np.array([1.5, 2.5, 3, 4, 5], dtype=int)\n",
    "print(np_arr)\n",
    "print(\"Type: \" + str(np_arr.dtype))"
   ]
  },
  {
   "cell_type": "markdown",
   "metadata": {},
   "source": [
    "Other ways to create NumPy arrays:"
   ]
  },
  {
   "cell_type": "code",
   "execution_count": 5,
   "metadata": {},
   "outputs": [
    {
     "name": "stdout",
     "output_type": "stream",
     "text": [
      "[0. 0. 0. 0. 0.]\n",
      "[[1. 1. 1. 1.]\n",
      " [1. 1. 1. 1.]]\n",
      "[ 0.00000000e+000 -2.31584193e+077  2.16272868e-314  2.78136358e-309]\n"
     ]
    }
   ],
   "source": [
    "print(np.zeros(5))\n",
    "print(np.ones((2, 4)))\n",
    "print(np.empty(4))"
   ]
  },
  {
   "cell_type": "code",
   "execution_count": 6,
   "metadata": {},
   "outputs": [
    {
     "name": "stdout",
     "output_type": "stream",
     "text": [
      "[20 23 26 29]\n",
      "[20. 25. 30.]\n",
      "[[[ 0  1  2  3]\n",
      "  [ 4  5  6  7]\n",
      "  [ 8  9 10 11]]\n",
      "\n",
      " [[12 13 14 15]\n",
      "  [16 17 18 19]\n",
      "  [20 21 22 23]]]\n"
     ]
    }
   ],
   "source": [
    "print(np.arange(20, 30, 3))           # 3 represents step size\n",
    "print(np.linspace(20, 30, 3))         # 3 represents number of elements\n",
    "print(np.arange(24).reshape(2, 3, 4)) # 2x3x4 array with elements from 0-23"
   ]
  },
  {
   "cell_type": "markdown",
   "metadata": {},
   "source": [
    "Operations on NumPy arrays:"
   ]
  },
  {
   "cell_type": "code",
   "execution_count": 7,
   "metadata": {},
   "outputs": [
    {
     "name": "stdout",
     "output_type": "stream",
     "text": [
      "[ 3  6  9 12]\n",
      "[ 2  8 18 32]\n",
      "[ 4 16 36 64]\n",
      "[ 3 12 27 48]\n",
      "[ 3  6  9 12]\n",
      "[ True  True False False]\n",
      "[False  True False  True]\n",
      "[ 2  8 18 32]\n",
      "[ 2.1  8.1 18.1 32.1]\n"
     ]
    }
   ],
   "source": [
    "a = np.array((2, 4, 6, 8))\n",
    "b = np.array([1, 2, 3, 4])\n",
    "# Both a and b must be same length or one must be an array/tuple of length 1\n",
    "print(a + b)\n",
    "print(a * b)\n",
    "print(a ** 2)\n",
    "print(b * [3, 6, 9, 12])\n",
    "print(b * (3))\n",
    "print(a < 5)\n",
    "print(b % 2 == 0)\n",
    "\n",
    "a *= b # changes the value of a\n",
    "print(a)\n",
    "# Note: 'a + 0.1' works but 'a += 0.1' produces a casting error\n",
    "print(a + 0.1) # Converts to float because it's more precise than int"
   ]
  },
  {
   "cell_type": "markdown",
   "metadata": {},
   "source": [
    "Matrix dot products: "
   ]
  },
  {
   "cell_type": "code",
   "execution_count": 8,
   "metadata": {},
   "outputs": [
    {
     "name": "stdout",
     "output_type": "stream",
     "text": [
      "Multiplying together: \n",
      "[[2 0]\n",
      " [0 4]]\n",
      "Actual dot product: \n",
      "[[5 4]\n",
      " [3 4]]\n",
      "Alternative dot product: \n",
      "[[5 4]\n",
      " [3 4]]\n"
     ]
    }
   ],
   "source": [
    "a = np.array([[1, 1],\n",
    "              [0, 1]])\n",
    "b = np.array([[2, 0], \n",
    "              [3, 4]])\n",
    "print(\"Multiplying together: \\n\" + str(a * b))\n",
    "print(\"Actual dot product: \\n\" + str(a.dot(b)))\n",
    "print(\"Alternative dot product: \\n\" + str(np.dot(a, b)))"
   ]
  },
  {
   "cell_type": "markdown",
   "metadata": {},
   "source": [
    "Unary operations: "
   ]
  },
  {
   "cell_type": "code",
   "execution_count": 9,
   "metadata": {},
   "outputs": [
    {
     "name": "stdout",
     "output_type": "stream",
     "text": [
      "9\n",
      "2\n",
      "90\n",
      "[26 30 34]\n",
      "[ 9 18 27 36]\n"
     ]
    }
   ],
   "source": [
    "a = np.array([2, 3, 4])\n",
    "print(a.sum())\n",
    "print(a.max() - a.min())\n",
    "\n",
    "b = np.array([[2, 3, 4], \n",
    "              [5, 6, 7], \n",
    "              [8, 9, 10], \n",
    "              [11, 12, 13]])\n",
    "print(b.sum())\n",
    "print(b.sum(axis=0)) # Sum across columns\n",
    "print(b.sum(axis=1)) # Sum across rows"
   ]
  },
  {
   "cell_type": "markdown",
   "metadata": {},
   "source": [
    "Universal functions (ufunc): "
   ]
  },
  {
   "cell_type": "code",
   "execution_count": 10,
   "metadata": {},
   "outputs": [
    {
     "name": "stdout",
     "output_type": "stream",
     "text": [
      "[ 0  1  4  9 16 25]\n",
      "[0.         1.         1.41421356 1.73205081 2.         2.23606798]\n",
      "[ 2  4  6  8 10 12]\n"
     ]
    }
   ],
   "source": [
    "a = np.arange(6)\n",
    "print(np.square(a))\n",
    "print(np.sqrt(a))\n",
    "print(np.add(a, np.arange(2, 8)))"
   ]
  },
  {
   "cell_type": "markdown",
   "metadata": {},
   "source": [
    "Index, slicing, and iterating: "
   ]
  },
  {
   "cell_type": "code",
   "execution_count": 11,
   "metadata": {},
   "outputs": [
    {
     "name": "stdout",
     "output_type": "stream",
     "text": [
      "2\n",
      "[3 4]\n",
      "[5 4 3 2 1 0]\n",
      "[-1  1 -1]\n",
      "\n",
      "\n",
      "[[ 0.  1.  2.  3.]\n",
      " [10. 11. 12. 13.]\n",
      " [20. 21. 22. 23.]]\n",
      "23.0 12.0\n",
      "[[ 3.  2.]\n",
      " [23. 22.]]\n",
      "\n",
      "\n",
      "[0. 1. 2. 3.]\n",
      "[10. 11. 12. 13.]\n",
      "[20. 21. 22. 23.]\n",
      "0.0\n",
      "1.0\n",
      "2.0\n",
      "3.0\n",
      "10.0\n",
      "11.0\n",
      "12.0\n",
      "13.0\n",
      "20.0\n",
      "21.0\n",
      "22.0\n",
      "23.0\n"
     ]
    }
   ],
   "source": [
    "a = np.arange(6)\n",
    "print(a[2])\n",
    "print(a[3:5])\n",
    "print(a[::-1])\n",
    "a[:4:2] = -1\n",
    "print(a[a < 2])\n",
    "print('\\n')\n",
    "\n",
    "def f(x, y):\n",
    "    return x * 10 + y\n",
    "b = np.fromfunction(f, (3, 4)) # Another way of initializing array\n",
    "print(b)\n",
    "print(str(b[2,3]) + \" \" + str(b[1][2]))\n",
    "print(b[::2, 3:1:-1])\n",
    "# b[0, ...] also works, where ... represents :,:,... as many times as needed\n",
    "print('\\n')\n",
    "\n",
    "for row in b:\n",
    "    print(row)\n",
    "for num in b.flat:\n",
    "    print(num)"
   ]
  },
  {
   "cell_type": "markdown",
   "metadata": {},
   "source": [
    "Shape manipulation: "
   ]
  },
  {
   "cell_type": "code",
   "execution_count": 12,
   "metadata": {},
   "outputs": [
    {
     "name": "stdout",
     "output_type": "stream",
     "text": [
      "[0 1 2 3 4 5]\n",
      "[[0 1 2]\n",
      " [3 4 5]]\n",
      "[[0 3]\n",
      " [1 4]\n",
      " [2 5]]\n",
      "[0 1 2 3 4 5]\n",
      "[[0 1 2]\n",
      " [3 4 5]]\n",
      "[[0 1]\n",
      " [2 3]\n",
      " [4 5]]\n"
     ]
    }
   ],
   "source": [
    "a = np.arange(6)\n",
    "print(a)\n",
    "a = a.reshape(2, 3)  # Does not modify the array, returns a new one\n",
    "print(a)\n",
    "print(a.transpose()) # Flips rows and columns\n",
    "a = a.ravel()\n",
    "print(a)\n",
    "a.resize(2, 3)       # Modifies the array unlike reshape, returns nothing\n",
    "print(a)\n",
    "print(a.reshape(3, -1)) # Calculates correct number of columns (doesn't work with resize function)"
   ]
  },
  {
   "cell_type": "code",
   "execution_count": 13,
   "metadata": {},
   "outputs": [
    {
     "name": "stdout",
     "output_type": "stream",
     "text": [
      "[[0 1]\n",
      " [2 3]]\n",
      "[[4 5]\n",
      " [6 7]]\n",
      "\n",
      "\n",
      "[[0 1]\n",
      " [2 3]\n",
      " [4 5]\n",
      " [6 7]]\n",
      "[[0 1 4 5]\n",
      " [2 3 6 7]]\n",
      "\n",
      "\n",
      "[[0 1 4 6]\n",
      " [2 3 5 7]]\n"
     ]
    }
   ],
   "source": [
    "a = np.arange(4).reshape(2, 2)\n",
    "b = np.arange(4, 8).reshape(2, 2)\n",
    "print(a)\n",
    "print(b)\n",
    "print('\\n')\n",
    "print(np.vstack((a, b)))\n",
    "print(np.hstack((a, b)))\n",
    "print('\\n')\n",
    "print(np.column_stack((a, [4, 5], [6, 7]))) # Adds 1D arrays as columns to a 2D array"
   ]
  },
  {
   "cell_type": "code",
   "execution_count": 14,
   "metadata": {},
   "outputs": [
    {
     "name": "stdout",
     "output_type": "stream",
     "text": [
      "[[ 0  1  2  3]\n",
      " [ 4  5  6  7]\n",
      " [ 8  9 10 11]]\n",
      "[array([[0, 1],\n",
      "       [4, 5],\n",
      "       [8, 9]]), array([[ 2,  3],\n",
      "       [ 6,  7],\n",
      "       [10, 11]])]\n",
      "[array([[0],\n",
      "       [4],\n",
      "       [8]]), array([[ 1,  2],\n",
      "       [ 5,  6],\n",
      "       [ 9, 10]]), array([[ 3],\n",
      "       [ 7],\n",
      "       [11]])]\n",
      "[array([[0, 1, 2, 3]]), array([[4, 5, 6, 7]]), array([[ 8,  9, 10, 11]])]\n"
     ]
    }
   ],
   "source": [
    "a = np.arange(12).reshape(3, 4)\n",
    "print(a)\n",
    "print(np.hsplit(a, 2))      # Splits into two arrays\n",
    "print(np.hsplit(a, (1, 3))) # Splits after 1st and 3rd column\n",
    "print(np.vsplit(a, 3))      # Splits vertically"
   ]
  },
  {
   "cell_type": "markdown",
   "metadata": {},
   "source": [
    "Pass by value vs. pass by reference, etc: "
   ]
  },
  {
   "cell_type": "code",
   "execution_count": 15,
   "metadata": {},
   "outputs": [
    {
     "name": "stdout",
     "output_type": "stream",
     "text": [
      "False\n",
      "True\n",
      "[ 0  1 -2 -3  4  5]\n",
      "[ 0  1 -2 -3 10 10]\n",
      "[ 0  1 -2 -3 10 10]\n"
     ]
    }
   ],
   "source": [
    "a = np.arange(6)\n",
    "b = a.view() # b is a view of a's data (is able to modify data but not things like a.shape)\n",
    "print(b is a)\n",
    "print(b.base is a)\n",
    "b[2:4] *= -1\n",
    "print(a)\n",
    "\n",
    "b = a[-2:] # b[:] is a view of a\n",
    "b[:] = 10  # Note: b = 10 would not work, it would change b to type int\n",
    "print(a)\n",
    "\n",
    "c = a.copy()\n",
    "c[0] = 999\n",
    "print(a)\n",
    "# a.view() produces a shallow copy whereas a.copy() produces a deep copy"
   ]
  },
  {
   "cell_type": "markdown",
   "metadata": {},
   "source": [
    "Broadcasting: Allowing functions to deal with arrays that aren't exactly the same shape. Arrays are lined up by trailing axes and each dimension must be the same length or one of them has to be length 1. If the number of dimensions doesn't match, a '1' will be prepended to the smaller array until they match. "
   ]
  },
  {
   "cell_type": "code",
   "execution_count": 16,
   "metadata": {},
   "outputs": [
    {
     "name": "stdout",
     "output_type": "stream",
     "text": [
      "[0 2 4]\n",
      "[0 2 4]\n"
     ]
    }
   ],
   "source": [
    "a = np.arange(3)\n",
    "b = np.array([2, 2, 2])\n",
    "print(a * b)\n",
    "print(a * 2)\n",
    "# Both methods work\n",
    "\n",
    "# Similarly, A * B below would produce the following dimensions: \n",
    "# A      (4d array):  8 x 1 x 6 x 1\n",
    "# B      (3d array):      7 x 1 x 5\n",
    "# Result (4d array):  8 x 7 x 6 x 5"
   ]
  },
  {
   "cell_type": "markdown",
   "metadata": {},
   "source": [
    "More ways of indexing:"
   ]
  },
  {
   "cell_type": "code",
   "execution_count": 17,
   "metadata": {},
   "outputs": [
    {
     "name": "stdout",
     "output_type": "stream",
     "text": [
      "[ 0  1  4  9 16 25]\n",
      "[ 1 16  4]\n",
      "[[ 4 16]\n",
      " [ 1  9]]\n",
      "[ 0  1  4 -1 -1 -1]\n",
      "[100 300   4  -1  -1  -1]\n",
      "[200 400   4  -1  -1  -1]\n"
     ]
    }
   ],
   "source": [
    "a = np.arange(6) ** 2\n",
    "print(a)\n",
    "print(a[np.array([1, 4, 2])])\n",
    "print(a[np.array([[2, 4], [1, 3]])])\n",
    "a[[3, 4, 5]] = -1\n",
    "print(a)\n",
    "a[[0, 1, 1]] = [100, 200, 300] # 200 and 300 both assigned to index 1\n",
    "print(a)\n",
    "a[[0, 1, 1]] += 100 # Only increases index 1 once\n",
    "print(a)"
   ]
  },
  {
   "cell_type": "code",
   "execution_count": 18,
   "metadata": {},
   "outputs": [
    {
     "name": "stdout",
     "output_type": "stream",
     "text": [
      "[ True False  True False  True False]\n",
      "[0 2 4]\n",
      "[ 0  1 -2  3 -4  5]\n",
      "[ 0  1 -2  5]\n"
     ]
    }
   ],
   "source": [
    "a = np.arange(6)\n",
    "b = a % 2 == 0\n",
    "print(b)\n",
    "print(a[b])\n",
    "a[b] *= -1\n",
    "print(a)\n",
    "print(a[[True, True, True, False, False, True]])"
   ]
  },
  {
   "cell_type": "markdown",
   "metadata": {},
   "source": [
    "The ix_() function to combine vectors:"
   ]
  },
  {
   "cell_type": "code",
   "execution_count": 19,
   "metadata": {},
   "outputs": [
    {
     "name": "stdout",
     "output_type": "stream",
     "text": [
      "[[[1]]\n",
      "\n",
      " [[2]]\n",
      "\n",
      " [[3]]]\n",
      "[[[4]\n",
      "  [5]]]\n",
      "[[[6 7 8 9]]]\n",
      "(3, 1, 1) (1, 2, 1) (1, 1, 4)\n",
      "[[[25 29 33 37]\n",
      "  [31 36 41 46]]\n",
      "\n",
      " [[26 30 34 38]\n",
      "  [32 37 42 47]]\n",
      "\n",
      " [[27 31 35 39]\n",
      "  [33 38 43 48]]]\n",
      "38\n"
     ]
    }
   ],
   "source": [
    "a = np.array([1, 2, 3])\n",
    "b = np.array([4, 5])\n",
    "c = np.array([6, 7, 8, 9])\n",
    "ax, bx, cx = np.ix_(a, b, c)\n",
    "print(ax)\n",
    "print(bx)\n",
    "print(cx)\n",
    "print(ax.shape, bx.shape, cx.shape)\n",
    "result = ax + bx * cx\n",
    "print(result)\n",
    "print(result[1, 0, 3])"
   ]
  },
  {
   "cell_type": "markdown",
   "metadata": {},
   "source": [
    "Other:"
   ]
  },
  {
   "cell_type": "code",
   "execution_count": 20,
   "metadata": {},
   "outputs": [
    {
     "name": "stdout",
     "output_type": "stream",
     "text": [
      "(5, 3, 2)\n",
      "[[2 4 6 8]\n",
      " [1 3 5 7]]\n",
      "[2 4 6 8 1 3 5 7]\n",
      "[[2 4 6 8]\n",
      " [2 4 6 8]\n",
      " [2 4 6 8]]\n"
     ]
    }
   ],
   "source": [
    "a = np.arange(30)\n",
    "a.shape = 5, -1, 2 # Automatically determine correct shape\n",
    "print(a.shape) \n",
    "\n",
    "a = np.array([2, 4, 6, 8])\n",
    "b = np.array([1, 3, 5, 7])\n",
    "print(np.vstack([a, b])) # Joining vectors into one array\n",
    "print(np.hstack([a, b]))\n",
    "print(np.vstack([a, a, a]))"
   ]
  }
 ],
 "metadata": {
  "kernelspec": {
   "display_name": "Python 3",
   "language": "python",
   "name": "python3"
  },
  "language_info": {
   "codemirror_mode": {
    "name": "ipython",
    "version": 3
   },
   "file_extension": ".py",
   "mimetype": "text/x-python",
   "name": "python",
   "nbconvert_exporter": "python",
   "pygments_lexer": "ipython3",
   "version": "3.6.4"
  }
 },
 "nbformat": 4,
 "nbformat_minor": 2
}
