{
 "cells": [
  {
   "cell_type": "markdown",
   "metadata": {},
   "source": [
    "# [PyTorch Tutorial](https://pytorch.org/tutorials/beginner/nn_tutorial.html)"
   ]
  },
  {
   "cell_type": "code",
   "execution_count": 1,
   "metadata": {},
   "outputs": [],
   "source": [
    "%matplotlib inline\n",
    "import numpy as np\n",
    "import matplotlib.pyplot as plt"
   ]
  },
  {
   "cell_type": "code",
   "execution_count": 2,
   "metadata": {},
   "outputs": [],
   "source": [
    "# Data from https://www.python-course.eu/neural_network_mnist.php\n",
    "train_data = np.loadtxt('mnist/train.csv', delimiter=',') \n",
    "test_data = np.loadtxt('mnist/test.csv', delimiter=',') \n",
    "\n",
    "trn_X = train_data[:, 1:]\n",
    "trn_y = train_data[:, :1]\n",
    "tst_X = test_data[:, 1:]\n",
    "tst_y = test_data[:, :1]"
   ]
  },
  {
   "cell_type": "code",
   "execution_count": 3,
   "metadata": {},
   "outputs": [
    {
     "data": {
      "text/plain": [
       "array([[  0.,   0.,   0.,   0.,   0.,   0.,   0.,   0.,   0.,   0.],\n",
       "       [  0.,   0.,  51., 159., 253., 159.,  50.,   0.,   0.,   0.],\n",
       "       [  0.,   0.,   0.,   0.,   0.,   0.,   0.,   0.,   0.,   0.],\n",
       "       [  0.,   0.,   0.,   0.,   0.,   0.,   0.,   0.,   0.,   0.],\n",
       "       [  0.,   0.,   0.,   0.,   0.,   0.,   0.,   0.,   0.,   0.]])"
      ]
     },
     "execution_count": 3,
     "metadata": {},
     "output_type": "execute_result"
    }
   ],
   "source": [
    "# Values range from 0 to 255\n",
    "trn_X[0:5,125:135]"
   ]
  },
  {
   "cell_type": "code",
   "execution_count": 4,
   "metadata": {},
   "outputs": [
    {
     "data": {
      "text/plain": [
       "array([[0.        , 0.        , 0.        , 0.        , 0.        ,\n",
       "        0.        , 0.        , 0.        , 0.        , 0.        ],\n",
       "       [0.        , 0.        , 0.2       , 0.62352941, 0.99215686,\n",
       "        0.62352941, 0.19607843, 0.        , 0.        , 0.        ],\n",
       "       [0.        , 0.        , 0.        , 0.        , 0.        ,\n",
       "        0.        , 0.        , 0.        , 0.        , 0.        ],\n",
       "       [0.        , 0.        , 0.        , 0.        , 0.        ,\n",
       "        0.        , 0.        , 0.        , 0.        , 0.        ],\n",
       "       [0.        , 0.        , 0.        , 0.        , 0.        ,\n",
       "        0.        , 0.        , 0.        , 0.        , 0.        ]])"
      ]
     },
     "execution_count": 4,
     "metadata": {},
     "output_type": "execute_result"
    }
   ],
   "source": [
    "# Normalize data\n",
    "trn_X /= 255\n",
    "tst_X /= 255\n",
    "trn_X[0:5,125:135]"
   ]
  },
  {
   "cell_type": "code",
   "execution_count": 5,
   "metadata": {},
   "outputs": [
    {
     "data": {
      "text/plain": [
       "(60000, 784)"
      ]
     },
     "execution_count": 5,
     "metadata": {},
     "output_type": "execute_result"
    },
    {
     "data": {
      "image/png": "[encoded data removed]",
      "text/plain": [
       "<matplotlib.figure.Figure at 0x1105dd6a0>"
      ]
     },
     "metadata": {},
     "output_type": "display_data"
    }
   ],
   "source": [
    "# Show an image\n",
    "plt.imshow(trn_X[0].reshape(28, 28), cmap='gray')\n",
    "trn_X.shape"
   ]
  },
  {
   "cell_type": "markdown",
   "metadata": {},
   "source": [
    "## PyTorch"
   ]
  },
  {
   "cell_type": "code",
   "execution_count": 6,
   "metadata": {},
   "outputs": [],
   "source": [
    "import torch\n",
    "\n",
    "# Convert NumPy arrays to torch tensors\n",
    "trn_X, trn_y, tst_X, tst_y = map(torch.tensor, (trn_X, trn_y, tst_X, tst_y))\n",
    "\n",
    "trn_X = trn_X.type('torch.FloatTensor')\n",
    "trn_y = trn_y.type('torch.FloatTensor')\n",
    "tst_X = tst_X.type('torch.FloatTensor')\n",
    "tst_y = tst_y.type('torch.FloatTensor')"
   ]
  },
  {
   "cell_type": "code",
   "execution_count": 7,
   "metadata": {},
   "outputs": [
    {
     "data": {
      "text/plain": [
       "torch.Tensor"
      ]
     },
     "execution_count": 7,
     "metadata": {},
     "output_type": "execute_result"
    }
   ],
   "source": [
    "type(trn_X)"
   ]
  },
  {
   "cell_type": "markdown",
   "metadata": {},
   "source": [
    "### Create a neural network from scratch"
   ]
  },
  {
   "cell_type": "code",
   "execution_count": 8,
   "metadata": {},
   "outputs": [
    {
     "data": {
      "text/plain": [
       "tensor([[-0.0022,  0.0227, -0.0308,  ...,  0.0068, -0.0015,  0.0088],\n",
       "        [ 0.0197,  0.0461,  0.0370,  ...,  0.0084, -0.0250, -0.0155],\n",
       "        [-0.0131, -0.0086,  0.0420,  ..., -0.0112, -0.0145, -0.0125],\n",
       "        ...,\n",
       "        [-0.0148, -0.0392,  0.0079,  ..., -0.0910,  0.0313, -0.0857],\n",
       "        [-0.0345, -0.0016, -0.0575,  ...,  0.0095, -0.0774,  0.0024],\n",
       "        [ 0.0261, -0.0645,  0.0528,  ..., -0.0210, -0.0100,  0.0384]],\n",
       "       requires_grad=True)"
      ]
     },
     "execution_count": 8,
     "metadata": {},
     "output_type": "execute_result"
    }
   ],
   "source": [
    "import math\n",
    "\n",
    "weights = torch.randn(784, 10) / math.sqrt(784)\n",
    "# trailing _'s in PyTorch signifies an in-place operation\n",
    "weights.requires_grad_()\n",
    "# bias: kind of like a coefficient added to each term\n",
    "bias = torch.zeros(10, requires_grad=True)\n",
    "weights"
   ]
  },
  {
   "cell_type": "code",
   "execution_count": 9,
   "metadata": {},
   "outputs": [
    {
     "data": {
      "text/plain": [
       "tensor([-1.3133, -0.3133])"
      ]
     },
     "execution_count": 9,
     "metadata": {},
     "output_type": "execute_result"
    }
   ],
   "source": [
    "# Activation function\n",
    "def log_softmax(x):\n",
    "    return x - x.exp().sum(-1).log().unsqueeze(-1)\n",
    "\n",
    "log_softmax(torch.tensor([0.0, 1.0]))"
   ]
  },
  {
   "cell_type": "code",
   "execution_count": 10,
   "metadata": {},
   "outputs": [],
   "source": [
    "# Activation function\n",
    "def sigmoid(x):\n",
    "    return 1 / (1 + torch.exp(-x))"
   ]
  },
  {
   "cell_type": "code",
   "execution_count": 11,
   "metadata": {},
   "outputs": [
    {
     "name": "stdout",
     "output_type": "stream",
     "text": [
      "torch.Size([2, 3])\n",
      "tensor([[  2.7183,   7.3891,  20.0855],\n",
      "        [ 54.5982, 148.4132, 403.4288]])\n",
      "tensor([ 30.1929, 606.4401])\n",
      "tensor([3.4076, 6.4076])\n",
      "tensor([[ 30.1929],\n",
      "        [606.4401]])\n",
      "tensor([[ -29.1929,  -28.1929,  -27.1929],\n",
      "        [-602.4401, -601.4401, -600.4401]])\n"
     ]
    }
   ],
   "source": [
    "# Example to understand log_softmax\n",
    "test_tensor = torch.tensor([[1, 2, 3], [4, 5, 6]]).type(torch.FloatTensor)\n",
    "print(test_tensor.shape)\n",
    "print(test_tensor.exp())\n",
    "print(test_tensor.exp().sum(-1))\n",
    "print(test_tensor.exp().sum(-1).log())\n",
    "print(test_tensor.exp().sum(-1).unsqueeze(-1))\n",
    "print(test_tensor - test_tensor.exp().sum(-1).unsqueeze(-1))"
   ]
  },
  {
   "cell_type": "code",
   "execution_count": 12,
   "metadata": {},
   "outputs": [],
   "source": [
    "# Model for learning\n",
    "def model(batch):\n",
    "    return log_softmax(batch @ weights + bias)\n",
    "# Note: @ is the dot product operation"
   ]
  },
  {
   "cell_type": "code",
   "execution_count": 13,
   "metadata": {},
   "outputs": [
    {
     "data": {
      "text/plain": [
       "(torch.Size([60000, 784]), torch.Size([784, 10]))"
      ]
     },
     "execution_count": 13,
     "metadata": {},
     "output_type": "execute_result"
    }
   ],
   "source": [
    "# Check to make sure dimensions line up\n",
    "trn_X.shape, weights.shape"
   ]
  },
  {
   "cell_type": "code",
   "execution_count": 14,
   "metadata": {
    "scrolled": true
   },
   "outputs": [
    {
     "data": {
      "text/plain": [
       "(tensor([-2.1167, -1.8724, -3.2058, -2.1228, -2.0106, -2.2342, -2.7280, -2.8415,\n",
       "         -2.2118, -2.3925], grad_fn=<SelectBackward>), torch.Size([64, 10]))"
      ]
     },
     "execution_count": 14,
     "metadata": {},
     "output_type": "execute_result"
    }
   ],
   "source": [
    "batch_size = 64\n",
    "\n",
    "batch = trn_X[0:batch_size]\n",
    "predictions = model(batch)\n",
    "predictions[0], predictions.shape"
   ]
  },
  {
   "cell_type": "code",
   "execution_count": 15,
   "metadata": {},
   "outputs": [],
   "source": [
    "# Loss function: the higher, the worse the model performs\n",
    "def neg_log_likelihood(predictions, target):\n",
    "    return -predictions[range(target.shape[0]), target.type(torch.LongTensor)].mean()\n",
    "\n",
    "# gather: gathers values along an axis with a specified tensor as indices\n",
    "# view: reshapes it to the specified shape in each dimension\n",
    "def loss_2(predictions, target):\n",
    "    target_indices = torch.gather(predictions, 1, target.view(-1, 1).type(torch.LongTensor))\n",
    "    return (target_indices).log().mean() / (-1 * predictions.shape[0])\n",
    "    # return (target @ target_indices.log() + \n",
    "    #    ((1 - target) @ (1 - target_indices)).log()).squeeze() / (-1 * predictions.shape[0])\n",
    "    \n",
    "def mean_squared(predictions, target):\n",
    "    target_indices = torch.gather(predictions, 1, target.view(-1, 1).type(torch.LongTensor))\n",
    "    return ((1 - target_indices) ** 2).sum() / predictions.shape[0]\n",
    "\n",
    "loss_function = neg_log_likelihood"
   ]
  },
  {
   "cell_type": "code",
   "execution_count": 16,
   "metadata": {},
   "outputs": [
    {
     "data": {
      "text/plain": [
       "tensor(-0.3000)"
      ]
     },
     "execution_count": 16,
     "metadata": {},
     "output_type": "execute_result"
    }
   ],
   "source": [
    "# Example\n",
    "test_pred = torch.tensor([[0.9, 0.1, 0.5], [0.1, 0.9, 0.5]]).type(torch.FloatTensor)\n",
    "test_target = torch.tensor([[2, 1]]).type(torch.FloatTensor)\n",
    "\n",
    "loss_function(test_pred, test_target)"
   ]
  },
  {
   "cell_type": "code",
   "execution_count": 17,
   "metadata": {},
   "outputs": [
    {
     "name": "stdout",
     "output_type": "stream",
     "text": [
      "torch.Size([64, 10]) torch.Size([64, 1])\n"
     ]
    },
    {
     "data": {
      "text/plain": [
       "tensor(2.3272, grad_fn=<NegBackward>)"
      ]
     },
     "execution_count": 17,
     "metadata": {},
     "output_type": "execute_result"
    }
   ],
   "source": [
    "print(predictions.shape, trn_y[0:batch_size].shape)\n",
    "loss_function(predictions, trn_y[0:batch_size])"
   ]
  },
  {
   "cell_type": "code",
   "execution_count": 18,
   "metadata": {},
   "outputs": [
    {
     "name": "stdout",
     "output_type": "stream",
     "text": [
      "torch.Size([2, 3]) torch.Size([2, 1])\n",
      "range(0, 2) tensor([[1.],\n",
      "        [2.]])\n",
      "tensor([[-2., -5.],\n",
      "        [-3., -6.]])\n",
      "tensor(4.)\n"
     ]
    }
   ],
   "source": [
    "# Example to understand neg_log_likelihood\n",
    "test_pred = torch.tensor([[-1, -2, -3], [-4, -5, -6]]).type(torch.FloatTensor)\n",
    "test_target = torch.tensor([[1], [2]]).type(torch.FloatTensor)\n",
    "print(test_pred.shape, test_target.shape)\n",
    "print(range(test_target.shape[0]), test_target)\n",
    "print(test_pred[range(test_target.shape[0]), test_target.type(torch.LongTensor)])\n",
    "print(-test_pred[range(test_target.shape[0]), test_target.type(torch.LongTensor)].mean())\n",
    "# Honestly, I don't understand their code for log_softmax and neg_log_likelihood"
   ]
  },
  {
   "cell_type": "code",
   "execution_count": 19,
   "metadata": {},
   "outputs": [],
   "source": [
    "# Accuracy function\n",
    "def accuracy(predictions, target):\n",
    "    preds = torch.argmax(predictions, dim=1)\n",
    "    return (preds == target).float().mean()"
   ]
  },
  {
   "cell_type": "code",
   "execution_count": 20,
   "metadata": {},
   "outputs": [
    {
     "data": {
      "text/plain": [
       "tensor(0.1187)"
      ]
     },
     "execution_count": 20,
     "metadata": {},
     "output_type": "execute_result"
    }
   ],
   "source": [
    "accuracy(predictions, trn_y[0:batch_size])"
   ]
  },
  {
   "cell_type": "markdown",
   "metadata": {},
   "source": [
    "#### Training the model"
   ]
  },
  {
   "cell_type": "code",
   "execution_count": 21,
   "metadata": {},
   "outputs": [],
   "source": [
    "# print(trn_X.shape, weights.shape, bias.shape)\n",
    "# predictions = model(trn_X)\n",
    "# predictions.backward(torch.ones(predictions.shape))\n",
    "# print(weights.grad[:, 4])\n",
    "# weights.grad.zero_()\n",
    "\n",
    "# model_loss = loss_function(model(trn_X), trn_y)\n",
    "# print(model_loss)\n",
    "# model_loss.backward()\n",
    "# print(weights.grad.max())\n",
    "# weights.grad.zero_()\n",
    "# print()\n",
    "\n",
    "# print(loss_function(model(tst_X), tst_y), accuracy(model(tst_X), tst_y))\n",
    "\n",
    "# with torch.no_grad():\n",
    "#     weights -= weights.grad * 0.1\n",
    "#     print(weights.grad.max())\n",
    "#     bias -= bias.grad * 0.1\n",
    "#     # Set gradients to zero so gradients are correct for next loop\n",
    "#     weights.grad.zero_()\n",
    "#     bias.grad.zero_()"
   ]
  },
  {
   "cell_type": "code",
   "execution_count": 29,
   "metadata": {},
   "outputs": [],
   "source": [
    "# Train\n",
    "learning_rate = 0.5\n",
    "epochs = 2\n",
    "from IPython.core.debugger import set_trace\n",
    "\n",
    "for epoch in range(epochs):\n",
    "    # Run through all the data in batches\n",
    "    for i in range((trn_X.shape[0] - 1) // batch_size + 1):\n",
    "        start = i * batch_size\n",
    "        end = start + batch_size\n",
    "        batch_X = trn_X[start:end]\n",
    "        batch_y = trn_y[start:end]\n",
    "        predictions = model(batch_X)\n",
    "        model_loss = loss_function(predictions, batch_y)\n",
    "\n",
    "        # Calculate gradients on weights and bias\n",
    "        model_loss.backward()\n",
    "        # Update weights and bias, but don't calculate gradients for this process\n",
    "        with torch.no_grad():\n",
    "            weights -= weights.grad * learning_rate\n",
    "            bias -= bias.grad * learning_rate\n",
    "            # Set gradients to zero so gradients are correct for next loop\n",
    "            weights.grad.zero_()\n",
    "            bias.grad.zero_()"
   ]
  },
  {
   "cell_type": "code",
   "execution_count": 28,
   "metadata": {},
   "outputs": [
    {
     "data": {
      "text/plain": [
       "(tensor([[-0.0022,  0.0227, -0.0308,  ...,  0.0068, -0.0015,  0.0088],\n",
       "         [ 0.0197,  0.0461,  0.0370,  ...,  0.0084, -0.0250, -0.0155],\n",
       "         [-0.0131, -0.0086,  0.0420,  ..., -0.0112, -0.0145, -0.0125],\n",
       "         ...,\n",
       "         [-0.0148, -0.0392,  0.0079,  ..., -0.0910,  0.0313, -0.0857],\n",
       "         [-0.0345, -0.0016, -0.0575,  ...,  0.0095, -0.0774,  0.0024],\n",
       "         [ 0.0261, -0.0645,  0.0528,  ..., -0.0210, -0.0100,  0.0384]],\n",
       "        requires_grad=True),\n",
       " tensor([-0.0665,  0.1674,  0.1357,  0.0102, -0.0967, -0.1344, -0.0457,  0.0813,\n",
       "         -0.0521,  0.0009], requires_grad=True))"
      ]
     },
     "execution_count": 28,
     "metadata": {},
     "output_type": "execute_result"
    }
   ],
   "source": [
    "weights, bias"
   ]
  },
  {
   "cell_type": "code",
   "execution_count": 24,
   "metadata": {},
   "outputs": [
    {
     "data": {
      "text/plain": [
       "(tensor(2.5944, grad_fn=<NegBackward>), tensor(0.0965))"
      ]
     },
     "execution_count": 24,
     "metadata": {},
     "output_type": "execute_result"
    }
   ],
   "source": [
    "loss_function(model(tst_X), tst_y), accuracy(model(tst_X), tst_y)"
   ]
  },
  {
   "cell_type": "code",
   "execution_count": null,
   "metadata": {},
   "outputs": [],
   "source": []
  }
 ],
 "metadata": {
  "kernelspec": {
   "display_name": "Python 3",
   "language": "python",
   "name": "python3"
  },
  "language_info": {
   "codemirror_mode": {
    "name": "ipython",
    "version": 3
   },
   "file_extension": ".py",
   "mimetype": "text/x-python",
   "name": "python",
   "nbconvert_exporter": "python",
   "pygments_lexer": "ipython3",
   "version": "3.6.4"
  }
 },
 "nbformat": 4,
 "nbformat_minor": 2
}
