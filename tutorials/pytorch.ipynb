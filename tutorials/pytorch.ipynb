{
 "cells": [
  {
   "cell_type": "markdown",
   "metadata": {},
   "source": [
    "# [PyTorch Tutorial](https://pytorch.org/tutorials/beginner/nn_tutorial.html)"
   ]
  },
  {
   "cell_type": "code",
   "execution_count": 1,
   "metadata": {},
   "outputs": [],
   "source": [
    "%matplotlib inline\n",
    "import numpy as np\n",
    "import matplotlib.pyplot as plt"
   ]
  },
  {
   "cell_type": "code",
   "execution_count": 2,
   "metadata": {},
   "outputs": [],
   "source": [
    "# Data from https://www.python-course.eu/neural_network_mnist.php\n",
    "train_data = np.loadtxt('mnist/train.csv', delimiter=',') \n",
    "test_data = np.loadtxt('mnist/test.csv', delimiter=',') \n",
    "\n",
    "trn_X = train_data[:, 1:]\n",
    "trn_y = train_data[:, :1]\n",
    "tst_X = test_data[:, 1:]\n",
    "tst_y = test_data[:, :1]"
   ]
  },
  {
   "cell_type": "code",
   "execution_count": 3,
   "metadata": {},
   "outputs": [
    {
     "data": {
      "text/plain": [
       "(60000, 784)"
      ]
     },
     "execution_count": 3,
     "metadata": {},
     "output_type": "execute_result"
    },
    {
     "data": {
      "image/png": "[encoded data removed]",
      "text/plain": [
       "<matplotlib.figure.Figure at 0x119820048>"
      ]
     },
     "metadata": {},
     "output_type": "display_data"
    }
   ],
   "source": [
    "# Show an image\n",
    "plt.imshow(trn_X[0].reshape(28, 28), cmap='gray')\n",
    "trn_X.shape"
   ]
  },
  {
   "cell_type": "markdown",
   "metadata": {},
   "source": [
    "## PyTorch"
   ]
  },
  {
   "cell_type": "code",
   "execution_count": 81,
   "metadata": {},
   "outputs": [
    {
     "name": "stderr",
     "output_type": "stream",
     "text": [
      "/Library/Frameworks/Python.framework/Versions/3.6/lib/python3.6/site-packages/ipykernel_launcher.py:4: UserWarning: To copy construct from a tensor, it is recommended to use sourceTensor.clone().detach() or sourceTensor.clone().detach().requires_grad_(True), rather than torch.tensor(sourceTensor).\n",
      "  after removing the cwd from sys.path.\n"
     ]
    }
   ],
   "source": [
    "import torch\n",
    "\n",
    "# Convert NumPy arrays to torch tensors\n",
    "trn_X, trn_y, tst_X, tst_y = map(torch.tensor, (trn_X, trn_y, tst_X, tst_y))\n",
    "\n",
    "trn_X = trn_X.type('torch.FloatTensor')\n",
    "trn_y = trn_y.type('torch.FloatTensor')\n",
    "tst_X = tst_X.type('torch.FloatTensor')\n",
    "tst_y = tst_y.type('torch.FloatTensor')"
   ]
  },
  {
   "cell_type": "code",
   "execution_count": 8,
   "metadata": {},
   "outputs": [
    {
     "data": {
      "text/plain": [
       "torch.Tensor"
      ]
     },
     "execution_count": 8,
     "metadata": {},
     "output_type": "execute_result"
    }
   ],
   "source": [
    "type(trn_X)"
   ]
  },
  {
   "cell_type": "markdown",
   "metadata": {},
   "source": [
    "### Create a neural network from scratch"
   ]
  },
  {
   "cell_type": "code",
   "execution_count": 43,
   "metadata": {},
   "outputs": [
    {
     "data": {
      "text/plain": [
       "tensor([[ 0.0201, -0.0209,  0.0781,  ...,  0.0317, -0.0315, -0.0425],\n",
       "        [ 0.0273,  0.0350, -0.0038,  ..., -0.0137,  0.0545, -0.0125],\n",
       "        [-0.0016,  0.0514, -0.0170,  ...,  0.0225, -0.0059,  0.0116],\n",
       "        ...,\n",
       "        [ 0.0755, -0.0274,  0.0153,  ...,  0.0224,  0.0220,  0.0056],\n",
       "        [ 0.0144,  0.0336,  0.0255,  ...,  0.0418,  0.0005,  0.0128],\n",
       "        [ 0.0464, -0.0399,  0.0763,  ..., -0.0725, -0.0263, -0.0272]],\n",
       "       requires_grad=True)"
      ]
     },
     "execution_count": 43,
     "metadata": {},
     "output_type": "execute_result"
    }
   ],
   "source": [
    "import math\n",
    "\n",
    "weights = torch.randn(784, 10) / math.sqrt(784)\n",
    "# trailing _'s in PyTorch signifies an in-place operation\n",
    "weights.requires_grad_()\n",
    "# bias: kind of like a coefficient added to each term\n",
    "bias = torch.zeros(10, requires_grad=True)\n",
    "weights"
   ]
  },
  {
   "cell_type": "code",
   "execution_count": 41,
   "metadata": {},
   "outputs": [
    {
     "data": {
      "text/plain": [
       "tensor([0.5000, 0.7311])"
      ]
     },
     "execution_count": 41,
     "metadata": {},
     "output_type": "execute_result"
    }
   ],
   "source": [
    "# 1 / (1 + e^(-x))\n",
    "def sigmoid(x):\n",
    "    return 1 / (1 + (-x).exp())\n",
    "\n",
    "sigmoid(torch.tensor([0.0, 1.0]))"
   ]
  },
  {
   "cell_type": "code",
   "execution_count": 45,
   "metadata": {},
   "outputs": [],
   "source": [
    "# Model for learning\n",
    "def model(batch):\n",
    "    return sigmoid(batch @ weights + bias)\n",
    "# Note: @ is the dot product operation"
   ]
  },
  {
   "cell_type": "code",
   "execution_count": 46,
   "metadata": {},
   "outputs": [
    {
     "data": {
      "text/plain": [
       "(torch.Size([60000, 784]), torch.Size([784, 10]))"
      ]
     },
     "execution_count": 46,
     "metadata": {},
     "output_type": "execute_result"
    }
   ],
   "source": [
    "# Check to make sure dimensions line up\n",
    "trn_X.shape, weights.shape"
   ]
  },
  {
   "cell_type": "code",
   "execution_count": 86,
   "metadata": {},
   "outputs": [
    {
     "data": {
      "text/plain": [
       "(tensor([1.0000e+00, 1.0000e+00, 1.0000e+00, 1.4507e-18, 2.9945e-24, 1.0000e+00,\n",
       "         7.2961e-26, 4.9396e-06, 1.0000e+00, 3.8078e-29],\n",
       "        grad_fn=<SelectBackward>), torch.Size([64, 10]))"
      ]
     },
     "execution_count": 86,
     "metadata": {},
     "output_type": "execute_result"
    }
   ],
   "source": [
    "batch_size = 64\n",
    "\n",
    "batch = trn_X[0:batch_size]\n",
    "predictions = model(batch)\n",
    "predictions[0], predictions.shape"
   ]
  },
  {
   "cell_type": "code",
   "execution_count": 87,
   "metadata": {},
   "outputs": [],
   "source": [
    "# Next steps: log function, accuracy"
   ]
  },
  {
   "cell_type": "code",
   "execution_count": null,
   "metadata": {},
   "outputs": [],
   "source": []
  }
 ],
 "metadata": {
  "kernelspec": {
   "display_name": "Python 3",
   "language": "python",
   "name": "python3"
  },
  "language_info": {
   "codemirror_mode": {
    "name": "ipython",
    "version": 3
   },
   "file_extension": ".py",
   "mimetype": "text/x-python",
   "name": "python",
   "nbconvert_exporter": "python",
   "pygments_lexer": "ipython3",
   "version": "3.6.4"
  }
 },
 "nbformat": 4,
 "nbformat_minor": 2
}
